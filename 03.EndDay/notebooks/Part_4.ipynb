{
 "cells": [
  {
   "cell_type": "markdown",
   "metadata": {},
   "source": [
    "\n",
    "# Part 4 : Text Mining\n",
    "\n",
    "> How to perform unstructured data analysis, says text mining, in Python?  Any example?\n",
    "\n",
    "refs:\n",
    "- https://github.com/vinta/awesome-python#natural-language-processing"
   ]
  },
  {
   "cell_type": "markdown",
   "metadata": {},
   "source": [
    "## Natural Language Processing\n",
    "\n",
    "*Libraries for working with human languages.*\n",
    "\n",
    "* [gensim](https://github.com/RaRe-Technologies/gensim) - Topic Modelling for Humans.\n",
    "* [Jieba](https://github.com/fxsjy/jieba) - Chinese text segmentation.\n",
    "* [langid.py](https://github.com/saffsd/langid.py) - Stand-alone language identification system.\n",
    "* [NLTK](http://www.nltk.org/) - A leading platform for building Python programs to work with human language data.\n",
    "* [Pattern](http://www.clips.ua.ac.be/pattern) - A web mining module for the Python.\n",
    "* [polyglot](https://github.com/aboSamoor/polyglot) - Natural language pipeline supporting hundreds of languages.\n",
    "* [SnowNLP](https://github.com/isnowfy/snownlp) - A library for processing Chinese text.\n",
    "* [spaCy](https://spacy.io/) - A library for industrial-strength natural language processing in Python and Cython.\n",
    "* [TextBlob](https://github.com/sloria/TextBlob) - Providing a consistent API for diving into common NLP tasks.\n"
   ]
  },
  {
   "cell_type": "markdown",
   "metadata": {},
   "source": [
    "## Tutorial of SpaCy\n",
    "\n",
    "- https://spacy.io/usage/spacy-101#lightning-tour\n",
    "- installation: https://spacy.io/usage/"
   ]
  },
  {
   "cell_type": "markdown",
   "metadata": {},
   "source": [
    "## Demo of app comments Project"
   ]
  }
 ],
 "metadata": {
  "kernelspec": {
   "display_name": "Python (anaconda3)",
   "language": "python",
   "name": "anaconda3"
  },
  "language_info": {
   "codemirror_mode": {
    "name": "ipython",
    "version": 3
   },
   "file_extension": ".py",
   "mimetype": "text/x-python",
   "name": "python",
   "nbconvert_exporter": "python",
   "pygments_lexer": "ipython3",
   "version": "3.6.0"
  }
 },
 "nbformat": 4,
 "nbformat_minor": 2
}
