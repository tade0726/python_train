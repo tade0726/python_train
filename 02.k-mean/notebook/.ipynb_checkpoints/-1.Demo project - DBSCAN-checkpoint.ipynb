{
 "cells": [
  {
   "cell_type": "markdown",
   "metadata": {},
   "source": [
    "# Demo project\n",
    "\n",
    "- Data checking\n",
    "    - Dataframe\n",
    "    - Data describle\n",
    "    - Data plot\n",
    "- Data prepocessing\n",
    "- Modeling\n",
    "    - K-means\n",
    "        - Decide K values\n",
    "    - DBSCAN\n",
    "        - Derterming the eps and MinPts\n",
    "    - Using silhouette to evaluate the model"
   ]
  },
  {
   "cell_type": "markdown",
   "metadata": {},
   "source": [
    "## loading package and data"
   ]
  },
  {
   "cell_type": "code",
   "execution_count": 1,
   "metadata": {
    "collapsed": false
   },
   "outputs": [],
   "source": [
    "import pandas as pd\n",
    "import numpy as np\n",
    "import matplotlib.pyplot as plt\n",
    "from sklearn.cluster import DBSCAN, KMeans\n",
    "from sklearn import metrics\n",
    "from sklearn.preprocessing import MinMaxScaler, scale, StandardScaler\n",
    "from datetime import datetime\n",
    "# for file output name\n",
    "today = datetime.today().strftime(format='%m%d')\n",
    "# for excel format\n",
    "import string\n",
    "# os\n",
    "from itertools import product\n",
    "import os\n",
    "# silhouette\n",
    "from matplotlib import cm \n",
    "from sklearn.metrics import silhouette_samples \n",
    "\n",
    "from collections import Counter\n",
    "\n",
    "# some config\n",
    "%matplotlib inline"
   ]
  },
  {
   "cell_type": "code",
   "execution_count": 2,
   "metadata": {
    "collapsed": true
   },
   "outputs": [],
   "source": [
    "# loading data\n",
    "data = pd.read_pickle('../data/sample_fields_clean.df')"
   ]
  },
  {
   "cell_type": "code",
   "execution_count": 3,
   "metadata": {
    "collapsed": false
   },
   "outputs": [
    {
     "data": {
      "text/html": [
       "<div>\n",
       "<table border=\"1\" class=\"dataframe\">\n",
       "  <thead>\n",
       "    <tr style=\"text-align: right;\">\n",
       "      <th></th>\n",
       "      <th>@A_activeDay</th>\n",
       "      <th>@C_activeDay</th>\n",
       "      <th>@E_activeDay</th>\n",
       "      <th>@B_activeDay</th>\n",
       "      <th>@D_activeDay</th>\n",
       "      <th>@A_spending</th>\n",
       "      <th>@C_spending</th>\n",
       "      <th>@E_spending</th>\n",
       "      <th>@B_spending</th>\n",
       "      <th>@D_spending</th>\n",
       "      <th>@Special_spending</th>\n",
       "    </tr>\n",
       "    <tr>\n",
       "      <th>KeyID</th>\n",
       "      <th></th>\n",
       "      <th></th>\n",
       "      <th></th>\n",
       "      <th></th>\n",
       "      <th></th>\n",
       "      <th></th>\n",
       "      <th></th>\n",
       "      <th></th>\n",
       "      <th></th>\n",
       "      <th></th>\n",
       "      <th></th>\n",
       "    </tr>\n",
       "  </thead>\n",
       "  <tbody>\n",
       "    <tr>\n",
       "      <th>4</th>\n",
       "      <td>2.0</td>\n",
       "      <td>NaN</td>\n",
       "      <td>NaN</td>\n",
       "      <td>NaN</td>\n",
       "      <td>NaN</td>\n",
       "      <td>2401.0</td>\n",
       "      <td>NaN</td>\n",
       "      <td>NaN</td>\n",
       "      <td>NaN</td>\n",
       "      <td>NaN</td>\n",
       "      <td>822.0</td>\n",
       "    </tr>\n",
       "    <tr>\n",
       "      <th>5</th>\n",
       "      <td>2.0</td>\n",
       "      <td>NaN</td>\n",
       "      <td>NaN</td>\n",
       "      <td>6.0</td>\n",
       "      <td>4.0</td>\n",
       "      <td>1821.0</td>\n",
       "      <td>NaN</td>\n",
       "      <td>NaN</td>\n",
       "      <td>5675.0</td>\n",
       "      <td>2042.0</td>\n",
       "      <td>NaN</td>\n",
       "    </tr>\n",
       "    <tr>\n",
       "      <th>13</th>\n",
       "      <td>2.0</td>\n",
       "      <td>NaN</td>\n",
       "      <td>NaN</td>\n",
       "      <td>NaN</td>\n",
       "      <td>NaN</td>\n",
       "      <td>1062.0</td>\n",
       "      <td>NaN</td>\n",
       "      <td>NaN</td>\n",
       "      <td>NaN</td>\n",
       "      <td>NaN</td>\n",
       "      <td>NaN</td>\n",
       "    </tr>\n",
       "    <tr>\n",
       "      <th>14</th>\n",
       "      <td>2.0</td>\n",
       "      <td>NaN</td>\n",
       "      <td>NaN</td>\n",
       "      <td>3.0</td>\n",
       "      <td>NaN</td>\n",
       "      <td>3375.5</td>\n",
       "      <td>NaN</td>\n",
       "      <td>NaN</td>\n",
       "      <td>4677.5</td>\n",
       "      <td>NaN</td>\n",
       "      <td>NaN</td>\n",
       "    </tr>\n",
       "    <tr>\n",
       "      <th>17</th>\n",
       "      <td>117.0</td>\n",
       "      <td>NaN</td>\n",
       "      <td>NaN</td>\n",
       "      <td>1.0</td>\n",
       "      <td>NaN</td>\n",
       "      <td>7889.4</td>\n",
       "      <td>NaN</td>\n",
       "      <td>NaN</td>\n",
       "      <td>NaN</td>\n",
       "      <td>NaN</td>\n",
       "      <td>32510.0</td>\n",
       "    </tr>\n",
       "  </tbody>\n",
       "</table>\n",
       "</div>"
      ],
      "text/plain": [
       "       @A_activeDay  @C_activeDay  @E_activeDay  @B_activeDay  @D_activeDay  \\\n",
       "KeyID                                                                         \n",
       "4               2.0           NaN           NaN           NaN           NaN   \n",
       "5               2.0           NaN           NaN           6.0           4.0   \n",
       "13              2.0           NaN           NaN           NaN           NaN   \n",
       "14              2.0           NaN           NaN           3.0           NaN   \n",
       "17            117.0           NaN           NaN           1.0           NaN   \n",
       "\n",
       "       @A_spending  @C_spending  @E_spending  @B_spending  @D_spending  \\\n",
       "KeyID                                                                    \n",
       "4           2401.0          NaN          NaN          NaN          NaN   \n",
       "5           1821.0          NaN          NaN       5675.0       2042.0   \n",
       "13          1062.0          NaN          NaN          NaN          NaN   \n",
       "14          3375.5          NaN          NaN       4677.5          NaN   \n",
       "17          7889.4          NaN          NaN          NaN          NaN   \n",
       "\n",
       "       @Special_spending  \n",
       "KeyID                     \n",
       "4                  822.0  \n",
       "5                    NaN  \n",
       "13                   NaN  \n",
       "14                   NaN  \n",
       "17               32510.0  "
      ]
     },
     "execution_count": 3,
     "metadata": {},
     "output_type": "execute_result"
    }
   ],
   "source": [
    "# show the data \n",
    "data.head()"
   ]
  },
  {
   "cell_type": "markdown",
   "metadata": {},
   "source": [
    "## Checking data"
   ]
  },
  {
   "cell_type": "code",
   "execution_count": 4,
   "metadata": {
    "collapsed": false
   },
   "outputs": [
    {
     "data": {
      "text/plain": [
       "(23763, 11)"
      ]
     },
     "execution_count": 4,
     "metadata": {},
     "output_type": "execute_result"
    }
   ],
   "source": [
    "# record and features numbers\n",
    "data.shape"
   ]
  },
  {
   "cell_type": "code",
   "execution_count": 5,
   "metadata": {
    "collapsed": false,
    "scrolled": true
   },
   "outputs": [
    {
     "data": {
      "text/plain": [
       "@A_activeDay         0.041417\n",
       "@C_activeDay         0.054466\n",
       "@E_activeDay         0.064910\n",
       "@B_activeDay         0.053192\n",
       "@D_activeDay         0.060640\n",
       "@A_spending          0.041883\n",
       "@C_spending          0.059573\n",
       "@E_spending          0.065698\n",
       "@B_spending          0.054550\n",
       "@D_spending          0.069221\n",
       "@Special_spending    0.060120\n",
       "dtype: float64"
      ]
     },
     "execution_count": 5,
     "metadata": {},
     "output_type": "execute_result"
    }
   ],
   "source": [
    "# how many missing data\n",
    "data.isnull().sum() / data.size"
   ]
  },
  {
   "cell_type": "code",
   "execution_count": 6,
   "metadata": {
    "collapsed": false
   },
   "outputs": [
    {
     "data": {
      "text/plain": [
       "3031"
      ]
     },
     "execution_count": 6,
     "metadata": {},
     "output_type": "execute_result"
    }
   ],
   "source": [
    "# how members no record\n",
    "(data.isnull().sum(1) == data.shape[1]).sum()"
   ]
  },
  {
   "cell_type": "code",
   "execution_count": 7,
   "metadata": {
    "collapsed": false,
    "scrolled": false
   },
   "outputs": [
    {
     "data": {
      "text/plain": [
       "array([   2.,  117.,    1.,   nan,   62.,    4.,    5.,   47.,   91.,\n",
       "         23.,   12.,    3.,   32.,   21.,   11.,   22.,  299.,   13.,\n",
       "         30.,  208.,   15.,    9.,   36.,   92.,    7.,   84.,   24.,\n",
       "         55.,  320.,   49.,   44.,  242.,   77.,   29.,  192.,  149.,\n",
       "         20.,   25.,    6.,   87.,    8.,   40.,   37.,   14.,   35.,\n",
       "        143.,   31.,  330.,   38.,   93.,  281.,   69.,   16.,   65.,\n",
       "         46.,   28.,   61.,   34.,  151.,   39.,  269.,   43.,  113.,\n",
       "         82.,  142.,   18.,  178.,   59.,   10.,   58.,  112.,   71.,\n",
       "         73.,  123.,   19.,  287.,  103.,   63.,   72.,   50.,  250.,\n",
       "         56.,  102.,   75.,   57.,  166.,   17.,  137.,   79.,  207.,\n",
       "        160.,   51.,   64.,   60.,  129.,  245.,  126.,  301.,  271.,\n",
       "         68.,  227.,   41.,   95.,   88.,   33.,   81.,   27.,   98.,\n",
       "        107.,  337.,  277.,   26.,  157.,  181.,   86.,  159.,  108.,\n",
       "        138.,  243.,  305.,  246.,  201.,  100.,   90.,   53.,  180.,\n",
       "        252.,  114.,   85.,  348.,  209.,  200.,  214.,  163.,   42.,\n",
       "        322.,  224.,  302.,  105.,  316.,  153.,   83.,  118.,  283.,\n",
       "        172.,  184.,  233.,  332.,  231.,  285.,   97.,  145.,  106.,\n",
       "        211.,  284.,   52.,  342.,  136.,  111.,   54.,   80.,  298.,\n",
       "        167.,  350.,   89.,   67.,  168.,  139.,  213.,  130.,   48.,\n",
       "        338.,  310.,  359.,  147.,  354.,  125.,  116.,  346.,   45.,\n",
       "        121.,  156.,  217.,  134.,  191.,  300.,  186.,  318.,  270.,\n",
       "        120.,  197.,  267.,  204.,  109.,  294.,   78.,  203.,  229.,\n",
       "        261.,  260.,  175.,  223.,  179.,  265.,  140.,   94.,  232.,\n",
       "         99.,  124.,  202.,  133.,  154.,  122.,  171.,  272.,  104.,\n",
       "        190.,  253.,   70.,  215.,  132.,  135.,  237.,  195.,  141.,\n",
       "         96.,  152.,  164.,  194.,   66.,  165.,   74.,  177.,  101.,\n",
       "        240.,  127.,  144.,  148.,  150.,  312.,  115.,  268.,  274.,\n",
       "        333.,   76.,  146.,  276.,  198.,  169.,  183.,  303.,  259.,\n",
       "        221.,  188.,  128.,  306.,  228.,  222.,  162.,  110.,  341.,\n",
       "        234.,  335.,  365.,  251.,  199.,  161.,  218.,  325.,  193.,\n",
       "        247.,  334.,  230.,  158.,  296.,  258.,  189.,  297.,  249.,\n",
       "        206.,  315.,  155.,  241.,  170.,  119.,  182.,  131.,  244.,\n",
       "        235.,  176.,  257.,  280.,  340.,  345.,  275.,  363.,  239.,\n",
       "        304.,  263.,  311.,  292.,  313.,  308.,  185.,  289.,  173.,\n",
       "        279.,  226.,  344.,  212.,  236.,  238.,  205.,  353.,  317.,\n",
       "        210.,  264.,  216.,  174.,  282.,  220.,  343.,  358.,  307.,\n",
       "        266.,  351.,  355.,  293.,  254.,  219.,  286.,  356.,  366.,\n",
       "        339.,  323.,  314.,  331.,  255.,  352.,  324.,  309.,  196.,\n",
       "        187.,  273.,  327.,  256.])"
      ]
     },
     "execution_count": 7,
     "metadata": {},
     "output_type": "execute_result"
    }
   ],
   "source": [
    "# checking unique\n",
    "data['@A_activeDay'].unique()"
   ]
  },
  {
   "cell_type": "code",
   "execution_count": 8,
   "metadata": {
    "collapsed": false
   },
   "outputs": [
    {
     "data": {
      "text/html": [
       "<div>\n",
       "<table border=\"1\" class=\"dataframe\">\n",
       "  <thead>\n",
       "    <tr style=\"text-align: right;\">\n",
       "      <th></th>\n",
       "      <th>count</th>\n",
       "      <th>mean</th>\n",
       "      <th>std</th>\n",
       "      <th>min</th>\n",
       "      <th>25%</th>\n",
       "      <th>50%</th>\n",
       "      <th>75%</th>\n",
       "      <th>max</th>\n",
       "    </tr>\n",
       "  </thead>\n",
       "  <tbody>\n",
       "    <tr>\n",
       "      <th>@A_activeDay</th>\n",
       "      <td>12937.0</td>\n",
       "      <td>3.989248e+01</td>\n",
       "      <td>5.791823e+01</td>\n",
       "      <td>1.0</td>\n",
       "      <td>5.000</td>\n",
       "      <td>16.0</td>\n",
       "      <td>49.000</td>\n",
       "      <td>366.0</td>\n",
       "    </tr>\n",
       "    <tr>\n",
       "      <th>@C_activeDay</th>\n",
       "      <td>9526.0</td>\n",
       "      <td>6.442473e+00</td>\n",
       "      <td>1.120095e+01</td>\n",
       "      <td>1.0</td>\n",
       "      <td>1.000</td>\n",
       "      <td>2.0</td>\n",
       "      <td>6.000</td>\n",
       "      <td>240.0</td>\n",
       "    </tr>\n",
       "    <tr>\n",
       "      <th>@E_activeDay</th>\n",
       "      <td>6796.0</td>\n",
       "      <td>6.822248e+00</td>\n",
       "      <td>1.743390e+01</td>\n",
       "      <td>1.0</td>\n",
       "      <td>1.000</td>\n",
       "      <td>2.0</td>\n",
       "      <td>5.000</td>\n",
       "      <td>352.0</td>\n",
       "    </tr>\n",
       "    <tr>\n",
       "      <th>@B_activeDay</th>\n",
       "      <td>9859.0</td>\n",
       "      <td>2.048402e+01</td>\n",
       "      <td>4.215596e+01</td>\n",
       "      <td>1.0</td>\n",
       "      <td>2.000</td>\n",
       "      <td>5.0</td>\n",
       "      <td>17.000</td>\n",
       "      <td>364.0</td>\n",
       "    </tr>\n",
       "    <tr>\n",
       "      <th>@D_activeDay</th>\n",
       "      <td>7912.0</td>\n",
       "      <td>1.016330e+01</td>\n",
       "      <td>1.505698e+01</td>\n",
       "      <td>1.0</td>\n",
       "      <td>1.000</td>\n",
       "      <td>3.0</td>\n",
       "      <td>11.000</td>\n",
       "      <td>84.0</td>\n",
       "    </tr>\n",
       "    <tr>\n",
       "      <th>@A_spending</th>\n",
       "      <td>12815.0</td>\n",
       "      <td>1.867259e+04</td>\n",
       "      <td>3.026847e+04</td>\n",
       "      <td>15.0</td>\n",
       "      <td>3260.250</td>\n",
       "      <td>9350.0</td>\n",
       "      <td>22910.650</td>\n",
       "      <td>1266530.4</td>\n",
       "    </tr>\n",
       "    <tr>\n",
       "      <th>@C_spending</th>\n",
       "      <td>8191.0</td>\n",
       "      <td>9.033512e+03</td>\n",
       "      <td>2.151073e+04</td>\n",
       "      <td>6.0</td>\n",
       "      <td>1384.500</td>\n",
       "      <td>3370.4</td>\n",
       "      <td>9046.500</td>\n",
       "      <td>1224073.0</td>\n",
       "    </tr>\n",
       "    <tr>\n",
       "      <th>@E_spending</th>\n",
       "      <td>6590.0</td>\n",
       "      <td>4.023950e+03</td>\n",
       "      <td>7.741221e+03</td>\n",
       "      <td>7.0</td>\n",
       "      <td>620.625</td>\n",
       "      <td>1737.5</td>\n",
       "      <td>4411.000</td>\n",
       "      <td>152822.0</td>\n",
       "    </tr>\n",
       "    <tr>\n",
       "      <th>@B_spending</th>\n",
       "      <td>9504.0</td>\n",
       "      <td>9.691435e+03</td>\n",
       "      <td>2.000148e+04</td>\n",
       "      <td>1.0</td>\n",
       "      <td>937.000</td>\n",
       "      <td>3223.0</td>\n",
       "      <td>9992.875</td>\n",
       "      <td>590707.2</td>\n",
       "    </tr>\n",
       "    <tr>\n",
       "      <th>@D_spending</th>\n",
       "      <td>5669.0</td>\n",
       "      <td>1.372655e+04</td>\n",
       "      <td>2.570864e+04</td>\n",
       "      <td>1.0</td>\n",
       "      <td>1670.000</td>\n",
       "      <td>4487.0</td>\n",
       "      <td>14141.000</td>\n",
       "      <td>402634.0</td>\n",
       "    </tr>\n",
       "    <tr>\n",
       "      <th>@Special_spending</th>\n",
       "      <td>8048.0</td>\n",
       "      <td>1.006120e+06</td>\n",
       "      <td>5.922069e+06</td>\n",
       "      <td>10.0</td>\n",
       "      <td>1640.000</td>\n",
       "      <td>27247.0</td>\n",
       "      <td>261739.260</td>\n",
       "      <td>286831000.0</td>\n",
       "    </tr>\n",
       "  </tbody>\n",
       "</table>\n",
       "</div>"
      ],
      "text/plain": [
       "                     count          mean           std   min       25%  \\\n",
       "@A_activeDay       12937.0  3.989248e+01  5.791823e+01   1.0     5.000   \n",
       "@C_activeDay        9526.0  6.442473e+00  1.120095e+01   1.0     1.000   \n",
       "@E_activeDay        6796.0  6.822248e+00  1.743390e+01   1.0     1.000   \n",
       "@B_activeDay        9859.0  2.048402e+01  4.215596e+01   1.0     2.000   \n",
       "@D_activeDay        7912.0  1.016330e+01  1.505698e+01   1.0     1.000   \n",
       "@A_spending        12815.0  1.867259e+04  3.026847e+04  15.0  3260.250   \n",
       "@C_spending         8191.0  9.033512e+03  2.151073e+04   6.0  1384.500   \n",
       "@E_spending         6590.0  4.023950e+03  7.741221e+03   7.0   620.625   \n",
       "@B_spending         9504.0  9.691435e+03  2.000148e+04   1.0   937.000   \n",
       "@D_spending         5669.0  1.372655e+04  2.570864e+04   1.0  1670.000   \n",
       "@Special_spending   8048.0  1.006120e+06  5.922069e+06  10.0  1640.000   \n",
       "\n",
       "                       50%         75%          max  \n",
       "@A_activeDay          16.0      49.000        366.0  \n",
       "@C_activeDay           2.0       6.000        240.0  \n",
       "@E_activeDay           2.0       5.000        352.0  \n",
       "@B_activeDay           5.0      17.000        364.0  \n",
       "@D_activeDay           3.0      11.000         84.0  \n",
       "@A_spending         9350.0   22910.650    1266530.4  \n",
       "@C_spending         3370.4    9046.500    1224073.0  \n",
       "@E_spending         1737.5    4411.000     152822.0  \n",
       "@B_spending         3223.0    9992.875     590707.2  \n",
       "@D_spending         4487.0   14141.000     402634.0  \n",
       "@Special_spending  27247.0  261739.260  286831000.0  "
      ]
     },
     "execution_count": 8,
     "metadata": {},
     "output_type": "execute_result"
    }
   ],
   "source": [
    "# data decrible\n",
    "data.describe().T"
   ]
  },
  {
   "cell_type": "code",
   "execution_count": 9,
   "metadata": {
    "collapsed": false
   },
   "outputs": [
    {
     "data": {
      "text/plain": [
       "<matplotlib.axes._subplots.AxesSubplot at 0x24df34ef1d0>"
      ]
     },
     "execution_count": 9,
     "metadata": {},
     "output_type": "execute_result"
    },
    {
     "data": {
      "image/png": "[encoded data removed]",
      "text/plain": [
       "<matplotlib.figure.Figure at 0x24df34dd710>"
      ]
     },
     "metadata": {},
     "output_type": "display_data"
    }
   ],
   "source": [
    "# plot the data\n",
    "s = data['@A_activeDay'].fillna(0)\n",
    "bins = [-1,] + list(range(0, int(s.max()), 50))\n",
    "pd.cut(s, bins=bins).value_counts().plot(kind='Bar')"
   ]
  },
  {
   "cell_type": "code",
   "execution_count": 10,
   "metadata": {
    "collapsed": true
   },
   "outputs": [],
   "source": [
    "# data base \n",
    "# clear the dorment\n",
    "clustering_base = data.dropna(axis=0, how='all').index"
   ]
  },
  {
   "cell_type": "code",
   "execution_count": 11,
   "metadata": {
    "collapsed": false
   },
   "outputs": [
    {
     "data": {
      "text/plain": [
       "20732"
      ]
     },
     "execution_count": 11,
     "metadata": {},
     "output_type": "execute_result"
    }
   ],
   "source": [
    "len(clustering_base)"
   ]
  },
  {
   "cell_type": "markdown",
   "metadata": {},
   "source": [
    "## Data prepocessing"
   ]
  },
  {
   "cell_type": "code",
   "execution_count": 12,
   "metadata": {
    "collapsed": false
   },
   "outputs": [],
   "source": [
    "# data min max scale\n",
    "X = data.loc[clustering_base, :].fillna(0).values\n",
    "X = StandardScaler().fit_transform(X)"
   ]
  },
  {
   "cell_type": "code",
   "execution_count": 13,
   "metadata": {
    "collapsed": true
   },
   "outputs": [],
   "source": [
    "# try find eps from NearestNeighbors\n",
    "% matplotlib inline\n",
    "from sklearn.neighbors import NearestNeighbors\n",
    "import pandas as pd\n",
    "import numpy as np\n",
    "\n",
    "def kNN_plot(X, k=int):\n",
    "    from sklearn.neighbors import NearestNeighbors\n",
    "    nbrs = NearestNeighbors(n_neighbors=k+1, \n",
    "                            algorithm='ball_tree',\n",
    "                            metric='euclidean').fit(X) # n_neighors set the min_sample size\n",
    "    distances, indices = nbrs.kneighbors(X)\n",
    "    # first columns is zero, drop\n",
    "    k_dis = np.ravel(distances[:, 1:])\n",
    "    # order by distance\n",
    "    k_dis.sort()\n",
    "    k_dis_series = pd.Series(k_dis)\n",
    "    y_max = k_dis_series.max()\n",
    "    x_max = len(k_dis_series)\n",
    "    ax = k_dis_series.plot(xlim=(-x_max * 0.05, x_max * 1.05 ), ylim=( -y_max * 0.1, y_max * 1.1))\n",
    "    ax.set(ylabel=\"%s-NN distance\" % k, xlabel=\"Pointes(sample) sorted by distance\")"
   ]
  },
  {
   "cell_type": "markdown",
   "metadata": {},
   "source": [
    "## Find eps and MinPts"
   ]
  },
  {
   "cell_type": "code",
   "execution_count": 14,
   "metadata": {
    "collapsed": false,
    "scrolled": true
   },
   "outputs": [
    {
     "data": {
      "image/png": "[encoded data removed]",
      "text/plain": [
       "<matplotlib.figure.Figure at 0x24df34dd668>"
      ]
     },
     "metadata": {},
     "output_type": "display_data"
    }
   ],
   "source": [
    "kNN_plot(X=X, k=4)"
   ]
  },
  {
   "cell_type": "code",
   "execution_count": 15,
   "metadata": {
    "collapsed": true
   },
   "outputs": [],
   "source": [
    "# modelling\n",
    "def dbscan_modelling(X, eps, m_samples):\n",
    "    \"\"\"\n",
    "    input: eps, m_samples\n",
    "    return: model, labels, n_cluster\n",
    "    \"\"\"\n",
    "    db = DBSCAN(eps=eps, \n",
    "                min_samples=m_samples, \n",
    "                metric='euclidean',\n",
    "                n_jobs=-1).fit(X)\n",
    "    labels = db.labels_\n",
    "    n_cluster = len(set(labels[labels != -1]))\n",
    "    print(\"n = %s, Silhouette Coefficient: %0.3f\"\n",
    "          % (n_cluster, metrics.silhouette_score(X[labels != -1, :], \n",
    "                                                 labels[labels != -1])), )\n",
    "    return db, labels, n_cluster"
   ]
  },
  {
   "cell_type": "code",
   "execution_count": 16,
   "metadata": {
    "collapsed": false
   },
   "outputs": [
    {
     "name": "stdout",
     "output_type": "stream",
     "text": [
      "n = 8, Silhouette Coefficient: 0.586\n"
     ]
    }
   ],
   "source": [
    "db, labels, n_clusers = dbscan_modelling(X, eps=1.5, m_samples=4)"
   ]
  },
  {
   "cell_type": "code",
   "execution_count": 17,
   "metadata": {
    "collapsed": false
   },
   "outputs": [
    {
     "data": {
      "text/plain": [
       "Counter({-1: 914, 0: 19785, 1: 4, 2: 4, 3: 5, 4: 4, 5: 6, 6: 5, 7: 5})"
      ]
     },
     "execution_count": 17,
     "metadata": {},
     "output_type": "execute_result"
    }
   ],
   "source": [
    "counter_L = Counter(labels)\n",
    "counter_L"
   ]
  },
  {
   "cell_type": "code",
   "execution_count": null,
   "metadata": {
    "collapsed": true
   },
   "outputs": [],
   "source": [
    "def plot_silhouette(X, labels):\n",
    "    cluster_labels = np.unique(labels) \n",
    "    n_clusters = cluster_labels.shape[0] \n",
    "    silhouette_vals = silhouette_samples(X, labels, metric='euclidean') \n",
    "    y_ax_lower, y_ax_upper = 0, 0 \n",
    "    yticks = [] \n",
    "    for i, c in enumerate(cluster_labels): \n",
    "         c_silhouette_vals = silhouette_vals[labels == c] \n",
    "         c_silhouette_vals.sort() \n",
    "         y_ax_upper += len(c_silhouette_vals)\n",
    "         color = cm.jet(i / n_clusters) \n",
    "         plt.barh(range(y_ax_lower, y_ax_upper), \n",
    "                  c_silhouette_vals, \n",
    "                  height=1.0, \n",
    "                  edgecolor='none', \n",
    "                  color=color) \n",
    "         yticks.append((y_ax_lower + y_ax_upper) / 2) \n",
    "         y_ax_lower += len(c_silhouette_vals)\n",
    "\n",
    "    silhouette_avg = np.mean(silhouette_vals) \n",
    "    plt.axvline(silhouette_avg, \n",
    "                 color=\"red\", \n",
    "                 linestyle=\"--\") \n",
    "    plt.yticks(yticks, cluster_labels)\n",
    "    plt.ylabel('Cluster') \n",
    "    plt.xlabel('Silhouette coefficient')\n",
    "    return silhouette_vals"
   ]
  },
  {
   "cell_type": "code",
   "execution_count": null,
   "metadata": {
    "collapsed": false,
    "scrolled": true
   },
   "outputs": [],
   "source": [
    "silhouette_vals = plot_silhouette(X, labels=labels)"
   ]
  },
  {
   "cell_type": "code",
   "execution_count": null,
   "metadata": {
    "collapsed": true
   },
   "outputs": [],
   "source": [
    "# adding the label and silhouette_vals\n",
    "data.loc[clustering_base, 'label'] = labels\n",
    "data.loc[clustering_base, 'silhouette_vals2'] = silhouette_vals\n",
    "\n",
    "# labels add dormant\n",
    "data['label'].fillna('Z.Dorment', inplace=1)"
   ]
  },
  {
   "cell_type": "code",
   "execution_count": null,
   "metadata": {
    "collapsed": false
   },
   "outputs": [],
   "source": [
    "# get the actual cluster with dormat \n",
    "today = datetime.now().strftime(format=\"%m%d\")\n",
    "num_of_clusters = len(set(data.label))\n",
    "info = 'kmean_dbscan'\n",
    "def get_tables(data: pd.DataFrame, zero_as='zero'):\n",
    "    #op dataset \n",
    "    data4 = data.dropna(how='all', axis=1)\n",
    "    # no fillna\n",
    "    if zero_as == 'zero':\n",
    "        data4 = data4.fillna(0)\n",
    "    table1 = data4.groupby('label').size().to_frame()\n",
    "    table1.columns = ['counts']\n",
    "    table1 = table1.T\n",
    "    table1['oa'] = table1.sum(1)\n",
    "    # adjust columns\n",
    "    table1 = table1[['oa'] + list(table1.columns)[:-1]] \n",
    "    # add counts of cluster\n",
    "    table2 = data4.groupby('label').mean().T\n",
    "    table2['oa'] = data4.mean()\n",
    "    table = table1.append(table2)\n",
    "    # adjust columns\n",
    "    # mean table and count table\n",
    "    count_table = data4.groupby('label').agg(lambda x: np.count_nonzero(x.fillna(0))).T\n",
    "    count_table_oa = data4.apply(lambda x: np.count_nonzero(x.fillna(0))).T\n",
    "    count_table['oa'] = count_table_oa\n",
    "    # adjust columns\n",
    "    count_table = count_table[['oa'] + list(count_table.columns)[:-1]]\n",
    "    # oa counts of members\n",
    "    oa_counts = data4.groupby('label').size()\n",
    "    oa_counts['oa'] = oa_counts.sum()\n",
    "    table_count_percentage = count_table / oa_counts\n",
    "    # get columns name\n",
    "    table_count_percentage.columns = 'counts_perc_' + table_count_percentage.columns.astype(str)\n",
    "    count_table.columns = 'counts_' + count_table.columns.astype(str)\n",
    "    # join table\n",
    "    table = table.join(table_count_percentage)\n",
    "    table = table.join(count_table)\n",
    "    # op dataset \n",
    "    table.to_excel('../op/cluster_mean_table_n{}_{}_{}_{}.xlsx'.format(num_of_clusters, today, info, zero_as))\n",
    "    if zero_as != 'zero':\n",
    "        data.to_pickle('../op/dataset_n{}_{}_{}_{}.df'.format(num_of_clusters, today, info, zero_as))\n",
    "        data.to_csv('../op/dataset_n{}_{}_{}_{}.csv'.format(num_of_clusters, today, info, zero_as))\n",
    "    return table.shape\n",
    "\n",
    "# get the dataframe size for formating\n",
    "rows, cols = get_tables(data, zero_as='nan')\n",
    "\n",
    "# setting the row col niumber for vba\n",
    "number_of_row = rows + 1\n",
    "mean_format_s, mean_format_e =  int(cols / 3) + 1 - num_of_clusters + 1  , int(cols / 3) + 1\n",
    "count_format_s, count_format_e =  2 * int(cols / 3) + 1 - num_of_clusters + 1  , 2 * int(cols / 3) + 1\n",
    "font_format_e = cols + 1\n",
    "# convert to char\n",
    "excel_column_names = (list(string.ascii_uppercase) + [x[0] + x[1] for x in list(product(string.ascii_uppercase, repeat=2))])\n",
    "font_format_e_char = excel_column_names[font_format_e - 1]\n",
    "mean_format_e_char = excel_column_names[mean_format_e - 1]\n",
    "count_format_s_char = excel_column_names[count_format_s - 2]\n",
    "count_format_e_char = excel_column_names[count_format_e - 1]\n",
    "\n",
    "vba_format = \\\n",
    "\"\"\"\n",
    "Sub condition_color()\n",
    "'condition_color\n",
    "'make condiction format\n",
    "    Application.ScreenUpdating = False\n",
    "    Dim i As Integer\n",
    "    i = 3\n",
    "    Do While i <= {number_of_row}\n",
    "        'mean of clustering\n",
    "        Range(Cells(i, {mean_format_s}), Cells(i, {mean_format_e})).Select\n",
    "        Selection.FormatConditions.AddColorScale ColorScaleType:=2\n",
    "        Selection.FormatConditions(Selection.FormatConditions.Count).SetFirstPriority\n",
    "        Selection.FormatConditions(1).ColorScaleCriteria(1).Type = _\n",
    "            xlConditionValueLowestValue\n",
    "        With Selection.FormatConditions(1).ColorScaleCriteria(1).FormatColor\n",
    "            .Color = 16776444\n",
    "            .TintAndShade = 0\n",
    "        End With\n",
    "        Selection.FormatConditions(1).ColorScaleCriteria(2).Type = _\n",
    "            xlConditionValueHighestValue\n",
    "        With Selection.FormatConditions(1).ColorScaleCriteria(2).FormatColor\n",
    "            .Color = 8109667\n",
    "            .TintAndShade = 0\n",
    "        End With\n",
    "        'percentage color format, non include oa\n",
    "        Range(Cells(i, {count_format_s}), Cells(i, {count_format_e})).Select\n",
    "        Selection.FormatConditions.AddColorScale ColorScaleType:=2\n",
    "        Selection.FormatConditions(Selection.FormatConditions.Count).SetFirstPriority\n",
    "        Selection.FormatConditions(1).ColorScaleCriteria(1).Type = _\n",
    "            xlConditionValueLowestValue\n",
    "        With Selection.FormatConditions(1).ColorScaleCriteria(1).FormatColor\n",
    "            .Color = 16776444\n",
    "            .TintAndShade = 0\n",
    "        End With\n",
    "        Selection.FormatConditions(1).ColorScaleCriteria(2).Type = _\n",
    "            xlConditionValueHighestValue\n",
    "        With Selection.FormatConditions(1).ColorScaleCriteria(2).FormatColor\n",
    "            .Color = 7039480\n",
    "            .TintAndShade = 0\n",
    "        End With\n",
    "        i = i + 1\n",
    "    Loop\n",
    "\n",
    "'make left line and number format\n",
    "    Columns(1).Select\n",
    "    With Selection\n",
    "        .HorizontalAlignment = xlLeft\n",
    "        .WrapText = False\n",
    "        .Orientation = 0\n",
    "        .AddIndent = False\n",
    "        .IndentLevel = 0\n",
    "        .ShrinkToFit = False\n",
    "        .ReadingOrder = xlContext\n",
    "        .MergeCells = False\n",
    "    End With\n",
    "    'mean digital format\n",
    "    Columns(\"B:{mean_format_e_char}\").Select\n",
    "    Selection.NumberFormat = \"#,##0.0\"\n",
    "    'all columns type\n",
    "    Columns(\"A:{font_format_e_char}\").Select\n",
    "    Selection.Font.Name = \"Calibri\"\n",
    "    'percent %\n",
    "    Columns(\"{count_format_s_char}:{count_format_e_char}\").Select\n",
    "    Selection.Style = \"Percent\"\n",
    "    Selection.NumberFormatLocal = \"0.0%\"\n",
    "    Rows(2).Select\n",
    "    Selection.NumberFormatLocal = \"0\"\n",
    "    Rows(1).Select\n",
    "    Selection.WrapText = True\n",
    "    Rows(2).Select\n",
    "    Selection.Font.Bold = True\n",
    "    Application.ScreenUpdating = True\n",
    "End Sub\n",
    "\"\"\".format(number_of_row = number_of_row, \n",
    "           mean_format_s = mean_format_s,\n",
    "           mean_format_e = mean_format_e,\n",
    "           count_format_s = count_format_s,\n",
    "           count_format_e = count_format_e,\n",
    "           mean_format_e_char = mean_format_e_char,\n",
    "           font_format_e_char = font_format_e_char,\n",
    "           count_format_s_char = count_format_s_char,\n",
    "           count_format_e_char = count_format_e_char, )\n",
    "print(vba_format)"
   ]
  }
 ],
 "metadata": {
  "anaconda-cloud": {},
  "kernelspec": {
   "display_name": "Python [conda root]",
   "language": "python",
   "name": "conda-root-py"
  },
  "language_info": {
   "codemirror_mode": {
    "name": "ipython",
    "version": 3
   },
   "file_extension": ".py",
   "mimetype": "text/x-python",
   "name": "python",
   "nbconvert_exporter": "python",
   "pygments_lexer": "ipython3",
   "version": "3.5.2"
  }
 },
 "nbformat": 4,
 "nbformat_minor": 1
}
