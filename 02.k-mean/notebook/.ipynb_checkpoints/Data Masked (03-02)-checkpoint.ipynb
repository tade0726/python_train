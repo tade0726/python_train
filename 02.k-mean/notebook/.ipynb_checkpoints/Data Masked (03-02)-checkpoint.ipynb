{
 "cells": [
  {
   "cell_type": "code",
   "execution_count": 15,
   "metadata": {
    "collapsed": true
   },
   "outputs": [],
   "source": [
    "import pandas as pd\n",
    "import numpy as np\n",
    "import re"
   ]
  },
  {
   "cell_type": "code",
   "execution_count": 2,
   "metadata": {
    "collapsed": true
   },
   "outputs": [],
   "source": [
    "data = pd.read_pickle('../data/sample_fields.df')"
   ]
  },
  {
   "cell_type": "code",
   "execution_count": 5,
   "metadata": {
    "collapsed": true
   },
   "outputs": [],
   "source": [
    "def col_filters(x):\n",
    "    if isinstance(x, tuple):\n",
    "        return False\n",
    "    elif x.startswith('@'):\n",
    "        return True\n",
    "    else:\n",
    "        return False\n",
    "keep_cols = [x for x in data.columns if col_filters(x)]"
   ]
  },
  {
   "cell_type": "code",
   "execution_count": 8,
   "metadata": {
    "collapsed": false
   },
   "outputs": [],
   "source": [
    "data_keep = data[keep_cols]"
   ]
  },
  {
   "cell_type": "code",
   "execution_count": 21,
   "metadata": {
    "collapsed": false,
    "scrolled": true
   },
   "outputs": [],
   "source": [
    "dct_rep = {\n",
    "    'HVCH':'A',\n",
    "    'STCH':'B',\n",
    "    'HVRC':'C',\n",
    "    'STRC':'D',\n",
    "    'BRCC':'E',\n",
    "    '_nbanquet': '',\n",
    "    'betting_rs_turnover': 'Special_spending',\n",
    "}\n",
    "\n",
    "pattern = re.compile('|'.join(dct_rep.keys()))\n",
    "data_keep = data_keep.rename(columns = lambda s: pattern.sub(lambda x: dct_rep[x.group()], s))"
   ]
  },
  {
   "cell_type": "code",
   "execution_count": 23,
   "metadata": {
    "collapsed": false
   },
   "outputs": [],
   "source": [
    "data_keep.to_pickle('../data/sample_fields_clean.df')"
   ]
  }
 ],
 "metadata": {
  "anaconda-cloud": {},
  "kernelspec": {
   "display_name": "Python [conda root]",
   "language": "python",
   "name": "conda-root-py"
  },
  "language_info": {
   "codemirror_mode": {
    "name": "ipython",
    "version": 3
   },
   "file_extension": ".py",
   "mimetype": "text/x-python",
   "name": "python",
   "nbconvert_exporter": "python",
   "pygments_lexer": "ipython3",
   "version": "3.5.2"
  }
 },
 "nbformat": 4,
 "nbformat_minor": 1
}
