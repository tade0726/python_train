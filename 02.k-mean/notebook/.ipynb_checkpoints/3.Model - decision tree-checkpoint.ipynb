{
 "cells": [
  {
   "cell_type": "markdown",
   "metadata": {},
   "source": [
    "# Using Decision Tree to generate rules"
   ]
  },
  {
   "cell_type": "code",
   "execution_count": 1,
   "metadata": {
    "collapsed": false
   },
   "outputs": [],
   "source": [
    "import pandas as pd\n",
    "import numpy as np\n",
    "from datetime import datetime\n",
    "\n",
    "from sklearn import tree\n",
    "from sklearn.externals.six import StringIO\n",
    "import pydot_ng as pydot\n",
    "\n",
    "# report\n",
    "from sklearn.metrics import classification_report"
   ]
  },
  {
   "cell_type": "code",
   "execution_count": 2,
   "metadata": {
    "collapsed": false
   },
   "outputs": [],
   "source": [
    "# get today str\n",
    "today = datetime.today().strftime(format='%Y%m%d')\n",
    "info = 'Demo'"
   ]
  },
  {
   "cell_type": "code",
   "execution_count": 32,
   "metadata": {
    "collapsed": false,
    "scrolled": true
   },
   "outputs": [],
   "source": [
    "# loading dataset\n",
    "dataset = pd.read_csv('../op/dataset_n5_0303_kmean_demo_nan.csv', index_col=0)"
   ]
  },
  {
   "cell_type": "code",
   "execution_count": 33,
   "metadata": {
    "collapsed": true
   },
   "outputs": [],
   "source": [
    "# drop dormant\n",
    "dataset = dataset[dataset['label'] != 'Z.Dorment']"
   ]
  },
  {
   "cell_type": "code",
   "execution_count": 34,
   "metadata": {
    "collapsed": false
   },
   "outputs": [
    {
     "data": {
      "text/html": [
       "<div>\n",
       "<table border=\"1\" class=\"dataframe\">\n",
       "  <thead>\n",
       "    <tr style=\"text-align: right;\">\n",
       "      <th></th>\n",
       "      <th>@A_activeDay</th>\n",
       "      <th>@C_activeDay</th>\n",
       "      <th>@E_activeDay</th>\n",
       "      <th>@B_activeDay</th>\n",
       "      <th>@D_activeDay</th>\n",
       "      <th>@A_spending</th>\n",
       "      <th>@C_spending</th>\n",
       "      <th>@E_spending</th>\n",
       "      <th>@B_spending</th>\n",
       "      <th>@D_spending</th>\n",
       "      <th>@Special_spending</th>\n",
       "      <th>label</th>\n",
       "      <th>silhouette_vals2</th>\n",
       "      <th>silhouette_vals</th>\n",
       "    </tr>\n",
       "    <tr>\n",
       "      <th>KeyID</th>\n",
       "      <th></th>\n",
       "      <th></th>\n",
       "      <th></th>\n",
       "      <th></th>\n",
       "      <th></th>\n",
       "      <th></th>\n",
       "      <th></th>\n",
       "      <th></th>\n",
       "      <th></th>\n",
       "      <th></th>\n",
       "      <th></th>\n",
       "      <th></th>\n",
       "      <th></th>\n",
       "      <th></th>\n",
       "    </tr>\n",
       "  </thead>\n",
       "  <tbody>\n",
       "    <tr>\n",
       "      <th>4</th>\n",
       "      <td>2.0</td>\n",
       "      <td>NaN</td>\n",
       "      <td>NaN</td>\n",
       "      <td>NaN</td>\n",
       "      <td>NaN</td>\n",
       "      <td>2401.0</td>\n",
       "      <td>NaN</td>\n",
       "      <td>NaN</td>\n",
       "      <td>NaN</td>\n",
       "      <td>NaN</td>\n",
       "      <td>822.0</td>\n",
       "      <td>0</td>\n",
       "      <td>0.845566</td>\n",
       "      <td>0.845566</td>\n",
       "    </tr>\n",
       "    <tr>\n",
       "      <th>5</th>\n",
       "      <td>2.0</td>\n",
       "      <td>NaN</td>\n",
       "      <td>NaN</td>\n",
       "      <td>6.0</td>\n",
       "      <td>4.0</td>\n",
       "      <td>1821.0</td>\n",
       "      <td>NaN</td>\n",
       "      <td>NaN</td>\n",
       "      <td>5675.0</td>\n",
       "      <td>2042.0</td>\n",
       "      <td>NaN</td>\n",
       "      <td>0</td>\n",
       "      <td>0.807370</td>\n",
       "      <td>0.807370</td>\n",
       "    </tr>\n",
       "    <tr>\n",
       "      <th>13</th>\n",
       "      <td>2.0</td>\n",
       "      <td>NaN</td>\n",
       "      <td>NaN</td>\n",
       "      <td>NaN</td>\n",
       "      <td>NaN</td>\n",
       "      <td>1062.0</td>\n",
       "      <td>NaN</td>\n",
       "      <td>NaN</td>\n",
       "      <td>NaN</td>\n",
       "      <td>NaN</td>\n",
       "      <td>NaN</td>\n",
       "      <td>0</td>\n",
       "      <td>0.845511</td>\n",
       "      <td>0.845511</td>\n",
       "    </tr>\n",
       "    <tr>\n",
       "      <th>14</th>\n",
       "      <td>2.0</td>\n",
       "      <td>NaN</td>\n",
       "      <td>NaN</td>\n",
       "      <td>3.0</td>\n",
       "      <td>NaN</td>\n",
       "      <td>3375.5</td>\n",
       "      <td>NaN</td>\n",
       "      <td>NaN</td>\n",
       "      <td>4677.5</td>\n",
       "      <td>NaN</td>\n",
       "      <td>NaN</td>\n",
       "      <td>0</td>\n",
       "      <td>0.843125</td>\n",
       "      <td>0.843125</td>\n",
       "    </tr>\n",
       "    <tr>\n",
       "      <th>17</th>\n",
       "      <td>117.0</td>\n",
       "      <td>NaN</td>\n",
       "      <td>NaN</td>\n",
       "      <td>1.0</td>\n",
       "      <td>NaN</td>\n",
       "      <td>7889.4</td>\n",
       "      <td>NaN</td>\n",
       "      <td>NaN</td>\n",
       "      <td>NaN</td>\n",
       "      <td>NaN</td>\n",
       "      <td>32510.0</td>\n",
       "      <td>2</td>\n",
       "      <td>0.375341</td>\n",
       "      <td>0.375341</td>\n",
       "    </tr>\n",
       "  </tbody>\n",
       "</table>\n",
       "</div>"
      ],
      "text/plain": [
       "       @A_activeDay  @C_activeDay  @E_activeDay  @B_activeDay  @D_activeDay  \\\n",
       "KeyID                                                                         \n",
       "4               2.0           NaN           NaN           NaN           NaN   \n",
       "5               2.0           NaN           NaN           6.0           4.0   \n",
       "13              2.0           NaN           NaN           NaN           NaN   \n",
       "14              2.0           NaN           NaN           3.0           NaN   \n",
       "17            117.0           NaN           NaN           1.0           NaN   \n",
       "\n",
       "       @A_spending  @C_spending  @E_spending  @B_spending  @D_spending  \\\n",
       "KeyID                                                                    \n",
       "4           2401.0          NaN          NaN          NaN          NaN   \n",
       "5           1821.0          NaN          NaN       5675.0       2042.0   \n",
       "13          1062.0          NaN          NaN          NaN          NaN   \n",
       "14          3375.5          NaN          NaN       4677.5          NaN   \n",
       "17          7889.4          NaN          NaN          NaN          NaN   \n",
       "\n",
       "       @Special_spending label  silhouette_vals2  silhouette_vals  \n",
       "KeyID                                                              \n",
       "4                  822.0     0          0.845566         0.845566  \n",
       "5                    NaN     0          0.807370         0.807370  \n",
       "13                   NaN     0          0.845511         0.845511  \n",
       "14                   NaN     0          0.843125         0.843125  \n",
       "17               32510.0     2          0.375341         0.375341  "
      ]
     },
     "execution_count": 34,
     "metadata": {},
     "output_type": "execute_result"
    }
   ],
   "source": [
    "dataset.head()"
   ]
  },
  {
   "cell_type": "code",
   "execution_count": 11,
   "metadata": {
    "collapsed": false
   },
   "outputs": [
    {
     "data": {
      "text/plain": [
       "array(['0.0', '2.0', '1.0', '3.0'], dtype=object)"
      ]
     },
     "execution_count": 11,
     "metadata": {},
     "output_type": "execute_result"
    }
   ],
   "source": [
    "dataset['label'].unique()"
   ]
  },
  {
   "cell_type": "code",
   "execution_count": 12,
   "metadata": {
    "collapsed": false
   },
   "outputs": [],
   "source": [
    "# labels and X\n",
    "X = dataset.drop('label', axis=1).fillna(0).values\n",
    "y = dataset['label'].values\n",
    "feature_names = (dataset.columns[: -1])"
   ]
  },
  {
   "cell_type": "code",
   "execution_count": 13,
   "metadata": {
    "collapsed": true
   },
   "outputs": [],
   "source": [
    "# decision tree\n",
    "tree_cls = tree.DecisionTreeClassifier(criterion='entropy',\n",
    "                                       max_leaf_nodes=20,\n",
    "                                       min_samples_split=30,\n",
    "                                       min_samples_leaf=100,)\n",
    "tree_train = tree_cls.fit(X, y)"
   ]
  },
  {
   "cell_type": "code",
   "execution_count": 14,
   "metadata": {
    "collapsed": true
   },
   "outputs": [],
   "source": [
    "def output_pdf(tree_train):\n",
    "\tdot_data = StringIO()\n",
    "\ttree.export_graphviz(tree_train, out_file=dot_data,\n",
    "\t                     feature_names=feature_names,\n",
    "\t                     filled=True, rounded=True,\n",
    "\t                     special_characters=True,\n",
    "                         node_ids=1,\n",
    "                         proportion=1)\n",
    "\tgraph = pydot.graph_from_dot_data(dot_data.getvalue())\n",
    "\tgraph.write_pdf('../op/tree_grah_%s_%s.pdf' % (info, today))"
   ]
  },
  {
   "cell_type": "code",
   "execution_count": 15,
   "metadata": {
    "collapsed": false,
    "scrolled": true
   },
   "outputs": [],
   "source": [
    "output_pdf(tree_train)"
   ]
  },
  {
   "cell_type": "code",
   "execution_count": 16,
   "metadata": {
    "collapsed": false,
    "scrolled": true
   },
   "outputs": [
    {
     "name": "stdout",
     "output_type": "stream",
     "text": [
      "             precision    recall  f1-score   support\n",
      "\n",
      "        0.0       1.00      1.00      1.00     17154\n",
      "        1.0       0.95      0.95      0.95      1247\n",
      "        2.0       0.96      1.00      0.98      1723\n",
      "        3.0       0.98      0.90      0.94       608\n",
      "\n",
      "avg / total       0.99      0.99      0.99     20732\n",
      "\n"
     ]
    }
   ],
   "source": [
    "# report \n",
    "print(classification_report(y, tree_train.predict(X)))"
   ]
  },
  {
   "cell_type": "markdown",
   "metadata": {},
   "source": [
    "## fine_tune "
   ]
  },
  {
   "cell_type": "code",
   "execution_count": 24,
   "metadata": {
    "collapsed": false
   },
   "outputs": [],
   "source": [
    "# fine-tune ruls\n",
    "# fill nan \n",
    "data_whole = dataset.fillna(0)\n",
    "# filter\n",
    "\n",
    "# 1\n",
    "A_day_bewlow = (data_whole['@A_activeDay'] < 87)\n",
    "# 2\n",
    "B_day_bewlow = (data_whole['@B_activeDay'] < 78)\n",
    "# 3\n",
    "D_day_bewlow = (data_whole['@D_activeDay'] < 21)\n",
    "\n",
    "\"\"\"\n",
    "# 4\n",
    "~A_day_bewlow\n",
    "# 5\n",
    "~B_day_bewlow\n",
    "# 6\n",
    "~D_day_bewlow\n",
    "\n",
    "\"\"\"\n",
    "\n",
    "flter_0 = (A_day_bewlow & B_day_bewlow & D_day_bewlow)\n",
    "flter_1 = (A_day_bewlow & ~D_day_bewlow)\n",
    "flter_2 = (~A_day_bewlow)\n",
    "flter_3 = (A_day_bewlow & ~B_day_bewlow & D_day_bewlow)\n",
    "\n",
    "def cluster_filter(flter):\n",
    "    percentage = data_whole[flter].groupby('label').size() / data_whole.groupby('label').size()\n",
    "    counts = data_whole[flter].groupby('label').size()\n",
    "    cluster_counts = data_whole.groupby('label').size()\n",
    "    table = pd.DataFrame({'1.Counts':counts, '2.Cluster_counts':cluster_counts,'3.Percentage':percentage, })\n",
    "    return table\n",
    "\n",
    "filter_table_pre = {\n",
    "    'filter0':cluster_filter(flter=flter_0),\n",
    "    'filter1':cluster_filter(flter=flter_1),\n",
    "    'filter2':cluster_filter(flter=flter_2),\n",
    "    'filter3':cluster_filter(flter=flter_3),\n",
    "}"
   ]
  },
  {
   "cell_type": "code",
   "execution_count": 29,
   "metadata": {
    "collapsed": true
   },
   "outputs": [],
   "source": [
    "filter_table = pd.concat(filter_table_pre, axis=0).fillna(0)"
   ]
  },
  {
   "cell_type": "code",
   "execution_count": 30,
   "metadata": {
    "collapsed": false,
    "scrolled": false
   },
   "outputs": [
    {
     "data": {
      "text/html": [
       "<div>\n",
       "<table border=\"1\" class=\"dataframe\">\n",
       "  <thead>\n",
       "    <tr style=\"text-align: right;\">\n",
       "      <th></th>\n",
       "      <th></th>\n",
       "      <th>1.Counts</th>\n",
       "      <th>2.Cluster_counts</th>\n",
       "      <th>3.Percentage</th>\n",
       "    </tr>\n",
       "    <tr>\n",
       "      <th></th>\n",
       "      <th>label</th>\n",
       "      <th></th>\n",
       "      <th></th>\n",
       "      <th></th>\n",
       "    </tr>\n",
       "  </thead>\n",
       "  <tbody>\n",
       "    <tr>\n",
       "      <th rowspan=\"4\" valign=\"top\">filter0</th>\n",
       "      <th>0.0</th>\n",
       "      <td>17108.0</td>\n",
       "      <td>17154</td>\n",
       "      <td>0.997318</td>\n",
       "    </tr>\n",
       "    <tr>\n",
       "      <th>1.0</th>\n",
       "      <td>19.0</td>\n",
       "      <td>1247</td>\n",
       "      <td>0.015237</td>\n",
       "    </tr>\n",
       "    <tr>\n",
       "      <th>2.0</th>\n",
       "      <td>3.0</td>\n",
       "      <td>1723</td>\n",
       "      <td>0.001741</td>\n",
       "    </tr>\n",
       "    <tr>\n",
       "      <th>3.0</th>\n",
       "      <td>8.0</td>\n",
       "      <td>608</td>\n",
       "      <td>0.013158</td>\n",
       "    </tr>\n",
       "    <tr>\n",
       "      <th rowspan=\"4\" valign=\"top\">filter1</th>\n",
       "      <th>0.0</th>\n",
       "      <td>22.0</td>\n",
       "      <td>17154</td>\n",
       "      <td>0.001282</td>\n",
       "    </tr>\n",
       "    <tr>\n",
       "      <th>1.0</th>\n",
       "      <td>1179.0</td>\n",
       "      <td>1247</td>\n",
       "      <td>0.945469</td>\n",
       "    </tr>\n",
       "    <tr>\n",
       "      <th>2.0</th>\n",
       "      <td>0.0</td>\n",
       "      <td>1723</td>\n",
       "      <td>0.000000</td>\n",
       "    </tr>\n",
       "    <tr>\n",
       "      <th>3.0</th>\n",
       "      <td>44.0</td>\n",
       "      <td>608</td>\n",
       "      <td>0.072368</td>\n",
       "    </tr>\n",
       "    <tr>\n",
       "      <th rowspan=\"4\" valign=\"top\">filter2</th>\n",
       "      <th>0.0</th>\n",
       "      <td>10.0</td>\n",
       "      <td>17154</td>\n",
       "      <td>0.000583</td>\n",
       "    </tr>\n",
       "    <tr>\n",
       "      <th>1.0</th>\n",
       "      <td>49.0</td>\n",
       "      <td>1247</td>\n",
       "      <td>0.039294</td>\n",
       "    </tr>\n",
       "    <tr>\n",
       "      <th>2.0</th>\n",
       "      <td>1720.0</td>\n",
       "      <td>1723</td>\n",
       "      <td>0.998259</td>\n",
       "    </tr>\n",
       "    <tr>\n",
       "      <th>3.0</th>\n",
       "      <td>9.0</td>\n",
       "      <td>608</td>\n",
       "      <td>0.014803</td>\n",
       "    </tr>\n",
       "    <tr>\n",
       "      <th rowspan=\"4\" valign=\"top\">filter3</th>\n",
       "      <th>0.0</th>\n",
       "      <td>14.0</td>\n",
       "      <td>17154</td>\n",
       "      <td>0.000816</td>\n",
       "    </tr>\n",
       "    <tr>\n",
       "      <th>1.0</th>\n",
       "      <td>0.0</td>\n",
       "      <td>1247</td>\n",
       "      <td>0.000000</td>\n",
       "    </tr>\n",
       "    <tr>\n",
       "      <th>2.0</th>\n",
       "      <td>0.0</td>\n",
       "      <td>1723</td>\n",
       "      <td>0.000000</td>\n",
       "    </tr>\n",
       "    <tr>\n",
       "      <th>3.0</th>\n",
       "      <td>547.0</td>\n",
       "      <td>608</td>\n",
       "      <td>0.899671</td>\n",
       "    </tr>\n",
       "  </tbody>\n",
       "</table>\n",
       "</div>"
      ],
      "text/plain": [
       "               1.Counts  2.Cluster_counts  3.Percentage\n",
       "        label                                          \n",
       "filter0 0.0     17108.0             17154      0.997318\n",
       "        1.0        19.0              1247      0.015237\n",
       "        2.0         3.0              1723      0.001741\n",
       "        3.0         8.0               608      0.013158\n",
       "filter1 0.0        22.0             17154      0.001282\n",
       "        1.0      1179.0              1247      0.945469\n",
       "        2.0         0.0              1723      0.000000\n",
       "        3.0        44.0               608      0.072368\n",
       "filter2 0.0        10.0             17154      0.000583\n",
       "        1.0        49.0              1247      0.039294\n",
       "        2.0      1720.0              1723      0.998259\n",
       "        3.0         9.0               608      0.014803\n",
       "filter3 0.0        14.0             17154      0.000816\n",
       "        1.0         0.0              1247      0.000000\n",
       "        2.0         0.0              1723      0.000000\n",
       "        3.0       547.0               608      0.899671"
      ]
     },
     "execution_count": 30,
     "metadata": {},
     "output_type": "execute_result"
    }
   ],
   "source": [
    "filter_table"
   ]
  },
  {
   "cell_type": "code",
   "execution_count": 28,
   "metadata": {
    "collapsed": false
   },
   "outputs": [],
   "source": [
    "filter_table.to_excel('../op/Demo_rules_%s.xlsx' % today)"
   ]
  }
 ],
 "metadata": {
  "anaconda-cloud": {},
  "kernelspec": {
   "display_name": "Python [conda env:decision_tree]",
   "language": "python",
   "name": "conda-env-decision_tree-py"
  },
  "language_info": {
   "codemirror_mode": {
    "name": "ipython",
    "version": 2
   },
   "file_extension": ".py",
   "mimetype": "text/x-python",
   "name": "python",
   "nbconvert_exporter": "python",
   "pygments_lexer": "ipython2",
   "version": "2.7.13"
  }
 },
 "nbformat": 4,
 "nbformat_minor": 1
}
