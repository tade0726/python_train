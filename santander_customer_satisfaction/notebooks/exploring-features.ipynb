{
  "cells": [
    {
      "metadata": {
        "_uuid": "ffcc332b328aa3a65468abec7b8b5dc1634969c6",
        "_cell_guid": "dfa25027-38bc-437d-8a16-a491ec17ea4d",
        "trusted": false
      },
      "cell_type": "code",
      "source": "# Based on https://www.kaggle.com/benhamner/d/uciml/iris/python-data-visualizations/notebook\n# First, we'll import pandas, a data processing and CSV file I/O library\nimport pandas as pd\nimport numpy as np\n\n# We'll also import seaborn, a Python graphing library\nimport warnings # current version of seaborn generates a bunch of warnings that we'll ignore\nwarnings.filterwarnings(\"ignore\")\nimport seaborn as sns\n\nimport matplotlib.pyplot as plt\nsns.set(style=\"white\", color_codes=True)\n\n# Next, we'll load the train and test dataset, which is in the \"../input/\" directory\ntrain = pd.read_csv(\"../input/train.csv\") # the train dataset is now a Pandas DataFrame\ntest = pd.read_csv(\"../input/test.csv\") # the train dataset is now a Pandas DataFrame\n\n# Let's see what's in the trainings data - Jupyter notebooks print the result of the last thing you do\ntrain.head()\n\n# Press shift+enter to execute this cell",
      "execution_count": null,
      "outputs": []
    },
    {
      "metadata": {
        "_uuid": "44fdc1dc8aaefb4f1b5bc7d6c5eba8be2057374d",
        "_cell_guid": "1bbe7262-b310-40a3-abdd-2188a20c866c",
        "trusted": false
      },
      "cell_type": "code",
      "source": "# happy customers have TARGET==0, unhappy custormers have TARGET==1\n# A little less then 4% are unhappy => unbalanced dataset\ndf = pd.DataFrame(train.TARGET.value_counts())\ndf['Percentage'] = 100*df['TARGET']/train.shape[0]\ndf",
      "execution_count": null,
      "outputs": []
    },
    {
      "metadata": {
        "_uuid": "4abbc54e77aa2b364c766744638b6f36d823ace8",
        "_cell_guid": "10d30233-3408-4e3f-8dac-bfd153e0e6ce"
      },
      "cell_type": "markdown",
      "source": "# var3: nationality of the customer"
    },
    {
      "metadata": {
        "_uuid": "753beacd2ea72365754700d87284bdbbd0b924dd",
        "_cell_guid": "bd39ad4a-7a06-4de9-875a-94afe0b632db",
        "trusted": false
      },
      "cell_type": "code",
      "source": "# Top-10 most common values\ntrain.var3.value_counts()[:10]",
      "execution_count": null,
      "outputs": []
    },
    {
      "metadata": {
        "_uuid": "9e0b8f7f5d4951cc0cff87c7ee6979fdfa2d3259",
        "_cell_guid": "84d88ef3-4d8c-4458-a250-fa1ae7f8d995",
        "trusted": false
      },
      "cell_type": "code",
      "source": "# 116 values in column var3 are -999999\n# var3 is suspected to be the nationality of the customer\n# -999999 would mean that the nationality of the customer is unknown\ntrain.loc[train.var3==-999999].shape",
      "execution_count": null,
      "outputs": []
    },
    {
      "metadata": {
        "_uuid": "0034594adde4bfcb3365e7cfe698325950fd0843",
        "_cell_guid": "f33097b6-2824-4a08-88a2-a2bf78c3d7bb",
        "trusted": false
      },
      "cell_type": "code",
      "source": "# Replace -999999 in var3 column with most common value 2 \n# See https://www.kaggle.com/cast42/santander-customer-satisfaction/debugging-var3-999999\n# for details\ntrain = train.replace(-999999,2)\ntrain.loc[train.var3==-999999].shape",
      "execution_count": null,
      "outputs": []
    },
    {
      "metadata": {
        "_uuid": "d4a86374f1701dbc7dd5647cc94042eeeea4ffb0",
        "_cell_guid": "6b04ed88-a7f1-4401-8728-b6aaea761654"
      },
      "cell_type": "markdown",
      "source": "# Add feature that counts the number of zeros in a row"
    },
    {
      "metadata": {
        "_uuid": "c1e73d6b5ce8b554189126211e3f4fedbb1a37c1",
        "_cell_guid": "14856c77-9d26-4a0d-b197-8cd37b7d31eb",
        "trusted": false
      },
      "cell_type": "code",
      "source": "X = train.iloc[:,:-1]\ny = train.TARGET\n\nX['n0'] = (X==0).sum(axis=1)\ntrain['n0'] = X['n0']",
      "execution_count": null,
      "outputs": []
    },
    {
      "metadata": {
        "_uuid": "55c7984582401c281acf375abcd87220a94f8577",
        "_cell_guid": "254b01dd-ec50-4598-8ac6-6550c287d535"
      },
      "cell_type": "markdown",
      "source": "# num_var4 : number of bank products"
    },
    {
      "metadata": {
        "_uuid": "e8b7c5dce2cfe325088635f706eea4e2993f4fb9",
        "_cell_guid": "f4b06647-6387-409f-9dd0-c77a96670c1d",
        "trusted": false
      },
      "cell_type": "code",
      "source": "# According to dmi3kno (see https://www.kaggle.com/cast42/santander-customer-satisfaction/exploring-features/comments#115223)\n# num_var4 is the number of products. Let's plot the distribution:\ntrain.num_var4.hist(bins=100)\nplt.xlabel('Number of bank products')\nplt.ylabel('Number of customers in train')\nplt.title('Most customers have 1 product with the bank')\nplt.show()",
      "execution_count": null,
      "outputs": []
    },
    {
      "metadata": {
        "_uuid": "74dd0d51f1cc394f1738bbe6f5aa39b918f0440e",
        "_cell_guid": "e84eadab-91fe-4e86-ac40-bf6a8c7a4d98",
        "trusted": false
      },
      "cell_type": "code",
      "source": "# Let's look at the density of the of happy/unhappy customers in function of the number of bank products\nsns.FacetGrid(train, hue=\"TARGET\", size=6) \\\n   .map(plt.hist, \"num_var4\") \\\n   .add_legend()\nplt.title('Unhappy cosutomers have less products')\nplt.show()",
      "execution_count": null,
      "outputs": []
    },
    {
      "metadata": {
        "_uuid": "4c46921d420823916a050f89373c9d700df0cc90",
        "_cell_guid": "051ba962-b249-4148-9d8b-263e8d659c54",
        "trusted": false
      },
      "cell_type": "code",
      "source": "train[train.TARGET==1].num_var4.hist(bins=6)\nplt.title('Amount of unhappy customers in function of the number of products');",
      "execution_count": null,
      "outputs": []
    },
    {
      "metadata": {
        "_uuid": "d230ff002ee5d103bed9503200317899e0a9f475",
        "_cell_guid": "b5bc3d07-418b-45f7-bd46-0726981091bc"
      },
      "cell_type": "markdown",
      "source": "# Var38\nvar38 is important according to XGBOOST\nsee https://www.kaggle.com/cast42/santander-customer-satisfaction/xgboost-with-early-stopping/files\n\nAlso RFC thinks var38 is important\nsee https://www.kaggle.com/tks0123456789/santander-customer-satisfaction/data-exploration/notebook\n\nVar38 is suspected to be the mortage value with the bank. If the mortage is with another bank the national\naverage is used. \nSee https://www.kaggle.com/c/santander-customer-satisfaction/forums/t/19895/var38-is-mortgage-value\n\n[dmi3kno](https://www.kaggle.com/dmi3kno) says that var38 is value of the customer: [https://www.kaggle.com/cast42/santander-customer-satisfaction/exploring-features/comments#115223](https://www.kaggle.com/cast42/santander-customer-satisfaction/exploring-features/comments#115223)"
    },
    {
      "metadata": {
        "_uuid": "1aa72efc38ed4aa0b45cf221849e754c55bba398",
        "_cell_guid": "5517c53d-5901-42b8-8a14-5b45b383e58f",
        "trusted": false
      },
      "cell_type": "code",
      "source": "train.var38.describe()",
      "execution_count": null,
      "outputs": []
    },
    {
      "metadata": {
        "_uuid": "b1d19cdb2e96c9add45b93e0ba8d9531754548f5",
        "_cell_guid": "ac08aee6-b842-4448-beab-87b0a2c6c1ea",
        "trusted": false
      },
      "cell_type": "code",
      "source": "# How is var38 looking when customer is unhappy ?\ntrain.loc[train['TARGET']==1, 'var38'].describe()",
      "execution_count": null,
      "outputs": []
    },
    {
      "metadata": {
        "_uuid": "8fc581dfcb1f40e68bc2b4390ca388cd7e1c3cf8",
        "_cell_guid": "47c6cd85-4704-46d9-8e76-ca36b8c35148",
        "trusted": false
      },
      "cell_type": "code",
      "source": "# Histogram for var 38 is not normal distributed\ntrain.var38.hist(bins=1000);",
      "execution_count": null,
      "outputs": []
    },
    {
      "metadata": {
        "_uuid": "1d1174e9554600d9b53186c4bc0200e2c95c249d",
        "_cell_guid": "4d718083-4e40-4954-a716-6dcf27c32bab",
        "trusted": false
      },
      "cell_type": "code",
      "source": "train.var38.map(np.log).hist(bins=1000);",
      "execution_count": null,
      "outputs": []
    },
    {
      "metadata": {
        "_uuid": "30577c054a082a281c1a1868e192bda0c0677399",
        "_cell_guid": "960b93d1-108f-40fc-946c-cc9583c0b63c",
        "trusted": false
      },
      "cell_type": "code",
      "source": "# where is the spike between 11 and 12  in the log plot ?\ntrain.var38.map(np.log).mode()",
      "execution_count": null,
      "outputs": []
    },
    {
      "metadata": {
        "_uuid": "ed699eff0bdd5acee01da3f313b8e17a861e8048",
        "_cell_guid": "f47aabbc-03c9-48b9-86bc-9fe0acf299eb",
        "trusted": false
      },
      "cell_type": "code",
      "source": "# What are the most common values for var38 ?\ntrain.var38.value_counts()",
      "execution_count": null,
      "outputs": []
    },
    {
      "metadata": {
        "_uuid": "c2e04880c23c24da83fe18ae53edfd52bfff083f",
        "_cell_guid": "66c970d3-7ec0-414a-b741-da2664988bd1"
      },
      "cell_type": "markdown",
      "source": "the value 117310.979016 appears 14868 times in colum var38"
    },
    {
      "metadata": {
        "_uuid": "0f12530d5a3c6721c2222badb806e09d8da82a16",
        "_cell_guid": "05b2c790-ad26-4fa1-bfbf-e47f32ddb7bd",
        "trusted": false
      },
      "cell_type": "code",
      "source": "# the most common value is very close to the mean of the other values\ntrain.var38[train['var38'] != 117310.979016494].mean()",
      "execution_count": null,
      "outputs": []
    },
    {
      "metadata": {
        "_uuid": "3aafa72bd9d99a8640d5cea48aa320f61b58f63f",
        "_cell_guid": "4756e11a-abd3-46e8-9fdd-7d658a7fa176",
        "trusted": false
      },
      "cell_type": "code",
      "source": "# what if we exclude the most common value\ntrain.loc[~np.isclose(train.var38, 117310.979016), 'var38'].value_counts()",
      "execution_count": null,
      "outputs": []
    },
    {
      "metadata": {
        "_uuid": "077491638764fda2d80c0de4197feb6f9a4524be",
        "_cell_guid": "2355967a-97d8-4c08-94da-4764ec52f93f",
        "trusted": false
      },
      "cell_type": "code",
      "source": "# Look at the distribution\ntrain.loc[~np.isclose(train.var38, 117310.979016), 'var38'].map(np.log).hist(bins=100);",
      "execution_count": null,
      "outputs": []
    },
    {
      "metadata": {
        "_uuid": "186833815b383d2d3de778b834a526861f28b5b2",
        "_cell_guid": "36c5e4cd-b8f8-464d-ade0-ffd7a6fc3dce",
        "trusted": false
      },
      "cell_type": "code",
      "source": "# Above plot suggest we split up var38 into two variables\n# var38mc == 1 when var38 has the most common value and 0 otherwise\n# logvar38 is log transformed feature when var38mc is 0, zero otherwise\ntrain['var38mc'] = np.isclose(train.var38, 117310.979016)\ntrain['logvar38'] = train.loc[~train['var38mc'], 'var38'].map(np.log)\ntrain.loc[train['var38mc'], 'logvar38'] = 0",
      "execution_count": null,
      "outputs": []
    },
    {
      "metadata": {
        "_uuid": "d2c9cafcd18301f4aa2911d83a3d26c4b3801b8e",
        "_cell_guid": "6c607375-92a0-466d-859a-7c55aed08f33",
        "trusted": false
      },
      "cell_type": "code",
      "source": "#Check for nan's\nprint('Number of nan in var38mc', train['var38mc'].isnull().sum())\nprint('Number of nan in logvar38',train['logvar38'].isnull().sum())",
      "execution_count": null,
      "outputs": []
    },
    {
      "metadata": {
        "_uuid": "d0bae0826bf35a16c6b6bf8fa04af7ea51179e7e",
        "_cell_guid": "cfb6dda5-273d-4d08-8096-b009d585262f"
      },
      "cell_type": "markdown",
      "source": "# var15"
    },
    {
      "metadata": {
        "_uuid": "fffce6eb720337da1dcf1321b32f0e7bdfb544f7",
        "_cell_guid": "7b4eabd1-39e5-43aa-a810-fbab984f8b36"
      },
      "cell_type": "markdown",
      "source": "The most important feature for XGBoost is var15. According to [a Kaggle form post](https://www.kaggle.com/c/santander-customer-satisfaction/forums/t/19291/data-dictionary/110414#post110414)\n    var15 is the age of the customer. Let's explore var15"
    },
    {
      "metadata": {
        "_uuid": "ca4b3a0dff022b5f3599ddacb3e92cd800709fc8",
        "_cell_guid": "0c3ea58f-7684-46f0-8186-55f0a08033cb",
        "trusted": false
      },
      "cell_type": "code",
      "source": "train['var15'].describe()",
      "execution_count": null,
      "outputs": []
    },
    {
      "metadata": {
        "_uuid": "8fe5c37f3017ad56330405842e9e6a0994d86667",
        "_cell_guid": "8aee6804-490a-42e2-b990-ceddd84e05ca",
        "trusted": false
      },
      "cell_type": "code",
      "source": "#Looks more normal, plot the histogram\ntrain['var15'].hist(bins=100);",
      "execution_count": null,
      "outputs": []
    },
    {
      "metadata": {
        "_uuid": "3112e5a64a8a53723ce08221a5ed5fd61a4dbeb0",
        "_cell_guid": "02110b89-1ad2-4421-b916-4b80a58f50db",
        "trusted": false
      },
      "cell_type": "code",
      "source": "# Let's look at the density of the age of happy/unhappy customers\nsns.FacetGrid(train, hue=\"TARGET\", size=6) \\\n   .map(sns.kdeplot, \"var15\") \\\n   .add_legend()\nplt.title('Unhappy customers are slightly older');",
      "execution_count": null,
      "outputs": []
    },
    {
      "metadata": {
        "_uuid": "dcb350f4aaf22465928f91a3e9856a0cb6eecf85",
        "_cell_guid": "b45d2d77-93ae-4b3a-bdd0-02eaba0894a6"
      },
      "cell_type": "markdown",
      "source": "# saldo_var30"
    },
    {
      "metadata": {
        "_uuid": "8513357b84a3362bb317287b830df5a1a2cc7d06",
        "_cell_guid": "820466d3-3ba5-4e9d-abcd-014c7b694968",
        "trusted": false
      },
      "cell_type": "code",
      "source": "train.saldo_var30.hist(bins=100)\nplt.xlim(0, train.saldo_var30.max());",
      "execution_count": null,
      "outputs": []
    },
    {
      "metadata": {
        "_uuid": "658f900277c8e49f8c34eb2b3102c8c283521b47",
        "_cell_guid": "7d4153d8-51bc-4a07-a776-b4dd15fa29cd",
        "trusted": false
      },
      "cell_type": "code",
      "source": "# improve the plot by making the x axis logarithmic\ntrain['log_saldo_var30'] = train.saldo_var30.map(np.log)",
      "execution_count": null,
      "outputs": []
    },
    {
      "metadata": {
        "_uuid": "3c5dbda0be1741e5a12840261a10fe1956de532c",
        "_cell_guid": "e2b03211-b08f-4e17-a11f-c9817b202019",
        "trusted": false
      },
      "cell_type": "code",
      "source": "# Let's look at the density of the age of happy/unhappy customers for saldo_var30\nsns.FacetGrid(train, hue=\"TARGET\", size=6) \\\n   .map(sns.kdeplot, \"log_saldo_var30\") \\\n   .add_legend();",
      "execution_count": null,
      "outputs": []
    },
    {
      "metadata": {
        "_uuid": "cd1ed253fe237f01ca211cf6862c048965dee82f",
        "_cell_guid": "17c28220-30e7-435c-9495-a85a105bc088"
      },
      "cell_type": "markdown",
      "source": "# Explore the interaction between var15 (age) and var38"
    },
    {
      "metadata": {
        "_uuid": "14b07ea819fbe954504ecc5f150b6bfb2f67d98b",
        "_cell_guid": "26222fec-598f-4b04-a6d5-3c838436aef1",
        "trusted": false
      },
      "cell_type": "code",
      "source": "sns.FacetGrid(train, hue=\"TARGET\", size=10) \\\n   .map(plt.scatter, \"var38\", \"var15\") \\\n   .add_legend();",
      "execution_count": null,
      "outputs": []
    },
    {
      "metadata": {
        "_uuid": "07dfff539f1a515b128200bb8144114b8d21db3e",
        "_cell_guid": "bea20df9-88b9-4839-8256-b33346bf2a0e",
        "trusted": false
      },
      "cell_type": "code",
      "source": "sns.FacetGrid(train, hue=\"TARGET\", size=10) \\\n   .map(plt.scatter, \"logvar38\", \"var15\") \\\n   .add_legend()\nplt.ylim([0,120]); # Age must be positive ;-)",
      "execution_count": null,
      "outputs": []
    },
    {
      "metadata": {
        "_uuid": "7c2cb36d3196619bbbf7b08ef21265c3f29183d5",
        "_cell_guid": "8208ceff-bed9-4d02-92c5-c711b4331c9d",
        "trusted": false
      },
      "cell_type": "code",
      "source": "# Exclude most common value for var38 \nsns.FacetGrid(train[~train.var38mc], hue=\"TARGET\", size=10) \\\n   .map(plt.scatter, \"logvar38\", \"var15\") \\\n   .add_legend()\nplt.ylim([0,120]);",
      "execution_count": null,
      "outputs": []
    },
    {
      "metadata": {
        "_uuid": "ee3b99c037cf8d487529bd1bb8b224d53547aab1",
        "_cell_guid": "9fc3a83b-a91f-423b-b1d9-7c5cf1770081",
        "trusted": false
      },
      "cell_type": "code",
      "source": "# What is distribution of the age when var38 has it's most common value ?\nsns.FacetGrid(train[train.var38mc], hue=\"TARGET\", size=6) \\\n   .map(sns.kdeplot, \"var15\") \\\n   .add_legend();",
      "execution_count": null,
      "outputs": []
    },
    {
      "metadata": {
        "_uuid": "3d6c63e3597d75cbab59a47feb40ff86128d4225",
        "_cell_guid": "a6ac4f6b-ec7b-46ce-8db6-f960bc1cc09b",
        "trusted": false
      },
      "cell_type": "code",
      "source": "# What is density of n0 ?\nsns.FacetGrid(train, hue=\"TARGET\", size=6) \\\n   .map(sns.kdeplot, \"n0\") \\\n   .add_legend()\nplt.title('Unhappy customers have a lot of features that are zero');",
      "execution_count": null,
      "outputs": []
    },
    {
      "metadata": {
        "_uuid": "9bc232f326d8fb28f2c387e5fe2b90b8812a7dc6",
        "_cell_guid": "5553c38d-d579-462d-a14b-e291ef174143"
      },
      "cell_type": "markdown",
      "source": "# Select the most important features"
    },
    {
      "metadata": {
        "_uuid": "359054e2a0e8815d85a4825d31c2ff9f8a25791c",
        "_cell_guid": "ec182374-7ac7-42ec-8cbb-c269b08f5a33",
        "trusted": false
      },
      "cell_type": "code",
      "source": "from sklearn.feature_selection import SelectPercentile\nfrom sklearn.feature_selection import f_classif,chi2\nfrom sklearn.preprocessing import Binarizer, scale\n\n# First select features based on chi2 and f_classif\np = 3\n\nX_bin = Binarizer().fit_transform(scale(X))\nselectChi2 = SelectPercentile(chi2, percentile=p).fit(X_bin, y)\nselectF_classif = SelectPercentile(f_classif, percentile=p).fit(X, y)\n\nchi2_selected = selectChi2.get_support()\nchi2_selected_features = [ f for i,f in enumerate(X.columns) if chi2_selected[i]]\nprint('Chi2 selected {} features {}.'.format(chi2_selected.sum(),\n   chi2_selected_features))\nf_classif_selected = selectF_classif.get_support()\nf_classif_selected_features = [ f for i,f in enumerate(X.columns) if f_classif_selected[i]]\nprint('F_classif selected {} features {}.'.format(f_classif_selected.sum(),\n   f_classif_selected_features))\nselected = chi2_selected & f_classif_selected\nprint('Chi2 & F_classif selected {} features'.format(selected.sum()))\nfeatures = [ f for f,s in zip(X.columns, selected) if s]\nprint (features)",
      "execution_count": null,
      "outputs": []
    },
    {
      "metadata": {
        "_uuid": "62de1d1e452b6bf1fcaf1e3df086b6561c0382f6",
        "_cell_guid": "12a5bf70-43e0-487b-8ab0-a4f938fa5b77",
        "trusted": false
      },
      "cell_type": "code",
      "source": "# Make a dataframe with the selected features and the target variable\nX_sel = train[features+['TARGET']]",
      "execution_count": null,
      "outputs": []
    },
    {
      "metadata": {
        "_uuid": "1d56c32c15cf780c24fdc9a58fdac3fdc3794bb7",
        "_cell_guid": "a3d5ce19-cfa1-45cf-a295-186d2c428fdb"
      },
      "cell_type": "markdown",
      "source": "# var36"
    },
    {
      "metadata": {
        "_uuid": "5fc03ae7cb8f7411073395b8b46f9d278ca7e63b",
        "_cell_guid": "36c6ffd7-169b-427a-a0ac-3762a6576524",
        "trusted": false
      },
      "cell_type": "code",
      "source": "X_sel['var36'].value_counts()",
      "execution_count": null,
      "outputs": []
    },
    {
      "metadata": {
        "_uuid": "403d7b048082ae271c963430f26e5b75ddb59674",
        "_cell_guid": "2e1937f6-5822-4a5f-94de-71a3f6924d12"
      },
      "cell_type": "markdown",
      "source": "var36 is most of the times 99 or [0,1,2,3]"
    },
    {
      "metadata": {
        "_uuid": "ff669c4004e52309c651da19a90be121ce74b820",
        "_cell_guid": "93f43b3f-d9bf-46dc-916a-333bccb145fb",
        "trusted": false
      },
      "cell_type": "code",
      "source": "# Let's plot the density in function of the target variabele\nsns.FacetGrid(train, hue=\"TARGET\", size=6) \\\n   .map(sns.kdeplot, \"var36\") \\\n   .add_legend()\nplt.title('If var36 is 0,1,2 or 3 => less unhappy customers');",
      "execution_count": null,
      "outputs": []
    },
    {
      "metadata": {
        "_uuid": "cecd82c4f7da0cf14aa2052092645e2a5f414989",
        "_cell_guid": "cd62ef36-1b45-49b4-888e-2ff3b86846d2"
      },
      "cell_type": "markdown",
      "source": "In above plot we see that the density of unhappy custormers is lower when var36 is not 99"
    },
    {
      "metadata": {
        "_uuid": "7854725061709cf87c7932ec83cb4a05fced4020",
        "_cell_guid": "dfed785f-75ad-42d6-a5a5-20cf3f2a3e14",
        "trusted": false
      },
      "cell_type": "code",
      "source": "# var36 in function of var38 (most common value excluded) \nsns.FacetGrid(train[~train.var38mc], hue=\"TARGET\", size=10) \\\n   .map(plt.scatter, \"var36\", \"logvar38\") \\\n   .add_legend();",
      "execution_count": null,
      "outputs": []
    },
    {
      "metadata": {
        "_uuid": "301bb6444d728bd40ca4e8df4e7213a288afc6fb",
        "_cell_guid": "dd7e2549-770a-42e6-94ed-d9f95cc3d760"
      },
      "cell_type": "markdown",
      "source": "Let's seperate that in two plots"
    },
    {
      "metadata": {
        "_uuid": "0c571d99b2989b527c67b5cb0dcc35b5b23f5f4e",
        "_cell_guid": "70e5ed6e-ceb2-4a77-9f96-5c9b7e5ea380",
        "trusted": false
      },
      "cell_type": "code",
      "source": "sns.FacetGrid(train[(~train.var38mc) & (train.var36 < 4)], hue=\"TARGET\", size=10) \\\n   .map(plt.scatter, \"var36\", \"logvar38\") \\\n   .add_legend()\nplt.title('If var36==0, only happy customers');",
      "execution_count": null,
      "outputs": []
    },
    {
      "metadata": {
        "_uuid": "c305a97598ffa824566014b81acd126d3d03f8ed",
        "_cell_guid": "83c2b888-884c-4992-b02b-2431cbdd2a28",
        "trusted": false
      },
      "cell_type": "code",
      "source": "# Let's plot the density in function of the target variabele, when var36 = 99\nsns.FacetGrid(train[(~train.var38mc) & (train.var36 ==99)], hue=\"TARGET\", size=6) \\\n   .map(sns.kdeplot, \"logvar38\") \\\n   .add_legend();",
      "execution_count": null,
      "outputs": []
    },
    {
      "metadata": {
        "_uuid": "0829095fbce17724e37610da9cc81e347f87d7f0",
        "_cell_guid": "6715c98a-e5d0-4e0a-9a40-b9f495859016"
      },
      "cell_type": "markdown",
      "source": "# num_var5"
    },
    {
      "metadata": {
        "_uuid": "a952f14219868aa6e91b2b07568520099ab5445e",
        "_cell_guid": "b9387355-4832-4b10-ada8-eb23ab419cb0",
        "trusted": false
      },
      "cell_type": "code",
      "source": "train.num_var5.value_counts()",
      "execution_count": null,
      "outputs": []
    },
    {
      "metadata": {
        "_uuid": "e336d44a51cd7e19dcc27e7e91745850d0b31d84",
        "_cell_guid": "672424ca-a29d-4a93-8417-ad6ee726a0aa",
        "trusted": false
      },
      "cell_type": "code",
      "source": "train[train.TARGET==1].num_var5.value_counts()",
      "execution_count": null,
      "outputs": []
    },
    {
      "metadata": {
        "_uuid": "90697549040ee875f842db048b1a69a4bddeb851",
        "_cell_guid": "0656e955-6c22-4dd5-b58f-bab4d558ae02",
        "trusted": false
      },
      "cell_type": "code",
      "source": "train[train.TARGET==0].num_var5.value_counts()",
      "execution_count": null,
      "outputs": []
    },
    {
      "metadata": {
        "_uuid": "d72eebb2fafd431728ef10b65f1411716b749101",
        "_cell_guid": "0d33fede-1e9e-4d69-9996-50bc3ec1f3de",
        "trusted": false
      },
      "cell_type": "code",
      "source": "sns.FacetGrid(train, hue=\"TARGET\", size=6) \\\n   .map(plt.hist, \"num_var5\") \\\n   .add_legend();",
      "execution_count": null,
      "outputs": []
    },
    {
      "metadata": {
        "_uuid": "6a3ae455f79bbf74a8cc50c24bd6334a70d88cd2",
        "_cell_guid": "73c80e8b-2279-44b6-a929-9e9a149c6577",
        "trusted": false
      },
      "cell_type": "code",
      "source": "sns.FacetGrid(train, hue=\"TARGET\", size=6) \\\n   .map(sns.kdeplot, \"num_var5\") \\\n   .add_legend();",
      "execution_count": null,
      "outputs": []
    },
    {
      "metadata": {
        "_uuid": "75c809be97c2c4e5daa197d5a21104ca90566667",
        "_cell_guid": "e76e7d98-3ece-44a5-9928-991e06ce65f7",
        "trusted": false
      },
      "cell_type": "code",
      "source": "sns.pairplot(train[['var15','var36','logvar38','TARGET']], hue=\"TARGET\", size=2, diag_kind=\"kde\");",
      "execution_count": null,
      "outputs": []
    },
    {
      "metadata": {
        "_uuid": "d2b4e0a8451678d9b1b420ded048a012c44b4f8d",
        "_cell_guid": "bf14902a-fc94-4adf-8f7b-11c504457b04",
        "trusted": false
      },
      "cell_type": "code",
      "source": "train[['var15','var36','logvar38','TARGET']].boxplot(by=\"TARGET\", figsize=(12, 6));",
      "execution_count": null,
      "outputs": []
    },
    {
      "metadata": {
        "_uuid": "4abe3e507222ad2e203f05d1f150cdf3bcffe74b",
        "_cell_guid": "9798adcf-210f-4c5f-a409-2ae29d9142b4",
        "trusted": false
      },
      "cell_type": "code",
      "source": "# A final multivariate visualization technique pandas has is radviz\n# Which puts each feature as a point on a 2D plane, and then simulates\n# having each sample attached to those points through a spring weighted\n# by the relative value for that feature\nfrom pandas.tools.plotting import radviz\nradviz(train[['var15','var36','logvar38','TARGET']], \"TARGET\");",
      "execution_count": null,
      "outputs": []
    },
    {
      "metadata": {
        "_uuid": "a6766d34babaf850945de27c97f13a84cc78a1e8",
        "_cell_guid": "f4051055-442f-488e-a341-f93e2c7f0346"
      },
      "cell_type": "markdown",
      "source": "# now look at all 8 features together"
    },
    {
      "metadata": {
        "_uuid": "adb5b678cf2ae12f571579e1de07f6d250e56693",
        "_cell_guid": "813853a1-492f-4b68-9d99-cb502f5a4831",
        "trusted": false
      },
      "cell_type": "code",
      "source": "features",
      "execution_count": null,
      "outputs": []
    },
    {
      "metadata": {
        "_uuid": "4b34e8b23677833757a01f1ff4adf75ad2a496eb",
        "_cell_guid": "70603080-941d-44fe-a47c-e7b697350045",
        "trusted": false
      },
      "cell_type": "code",
      "source": "radviz(train[features+['TARGET']], \"TARGET\");",
      "execution_count": null,
      "outputs": []
    },
    {
      "metadata": {
        "_uuid": "e8ab48d2dd7de54e380a5fc5f2d90fcb5ab72655",
        "_cell_guid": "9dab5445-25f2-46f9-93af-76c5a6241893",
        "trusted": false
      },
      "cell_type": "code",
      "source": "sns.pairplot(train[features+['TARGET']], hue=\"TARGET\", size=2, diag_kind=\"kde\");",
      "execution_count": null,
      "outputs": []
    },
    {
      "metadata": {
        "_uuid": "a48f97dc7aa6a91ec361db340c3aa01246765fb4",
        "_cell_guid": "b9300d16-9a58-4b51-bf54-5dacb1efcb4d"
      },
      "cell_type": "markdown",
      "source": "# Correlations"
    },
    {
      "metadata": {
        "_uuid": "7f4d50a512a4ea6e975083ee2285ccbec1218f3b",
        "_cell_guid": "443b2d38-969c-4805-ac4d-d663143ed036",
        "trusted": false
      },
      "cell_type": "code",
      "source": "cor_mat = X.corr()",
      "execution_count": null,
      "outputs": []
    },
    {
      "metadata": {
        "_uuid": "13e17c65f7a97ed8aedc8fc7149a54d6db780a48",
        "_cell_guid": "47909a5b-0c82-4eb4-92c1-f1608dca8e00",
        "trusted": false
      },
      "cell_type": "code",
      "source": "f, ax = plt.subplots(figsize=(15, 12))\n# Draw the heatmap with the mask and correct aspect ratio\nsns.heatmap(cor_mat,linewidths=.5, ax=ax);",
      "execution_count": null,
      "outputs": []
    },
    {
      "metadata": {
        "_uuid": "3985b000110e269a6af7ff35d4df5d6fdd1a5ea9",
        "_cell_guid": "35798879-1743-4d8d-943b-4b12231c8575",
        "trusted": false
      },
      "cell_type": "code",
      "source": "cor_mat = X_sel.corr()",
      "execution_count": null,
      "outputs": []
    },
    {
      "metadata": {
        "_uuid": "26b45762b379d2e5696b42fefe87d8db31266506",
        "_cell_guid": "e27fcefc-2e81-480e-b66a-fe59a0c016db",
        "trusted": false
      },
      "cell_type": "code",
      "source": "f, ax = plt.subplots(figsize=(15, 12))\n# Draw the heatmap with the mask and correct aspect ratio\nsns.heatmap(cor_mat,linewidths=.5, ax=ax);",
      "execution_count": null,
      "outputs": []
    },
    {
      "metadata": {
        "_uuid": "3ff407280040f6798174b21dadfab5dcfecebbbe",
        "_cell_guid": "8275c6cb-05e9-48f7-99f1-c7c8cd34853a",
        "trusted": false
      },
      "cell_type": "code",
      "source": "# only important correlations and not auto-correlations\nthreshold = 0.7\nimportant_corrs = (cor_mat[abs(cor_mat) > threshold][cor_mat != 1.0]) \\\n    .unstack().dropna().to_dict()\nunique_important_corrs = pd.DataFrame(\n    list(set([(tuple(sorted(key)), important_corrs[key]) \\\n    for key in important_corrs])), columns=['attribute pair', 'correlation'])\n# sorted by absolute value\nunique_important_corrs = unique_important_corrs.ix[\n    abs(unique_important_corrs['correlation']).argsort()[::-1]]\nunique_important_corrs",
      "execution_count": null,
      "outputs": []
    },
    {
      "metadata": {
        "_uuid": "051d08c65b51ee2b7376da75d5468f2b480b21e8",
        "_cell_guid": "c9e81d06-c037-4489-821c-55436e8b9a33"
      },
      "cell_type": "markdown",
      "source": "# Clusters "
    },
    {
      "metadata": {
        "_uuid": "7004eebb86bec92ecf7bed3c6cca3570b5234449",
        "_cell_guid": "a896dd71-b2e2-4a5a-a789-ce255a40e6b9",
        "trusted": false
      },
      "cell_type": "code",
      "source": "# Recipe from https://github.com/mgalardini/python_plotting_snippets/blob/master/notebooks/clusters.ipynb\nimport matplotlib.patches as patches\nfrom scipy.cluster import hierarchy\nfrom scipy.stats.mstats import mquantiles\nfrom scipy.cluster.hierarchy import dendrogram, linkage",
      "execution_count": null,
      "outputs": []
    },
    {
      "metadata": {
        "_uuid": "b73d8ecd443691fcafab43a0a3c98fdf13f44d68",
        "_cell_guid": "897add49-f2b8-4d15-b32a-268319777c98",
        "trusted": false
      },
      "cell_type": "code",
      "source": "# Correlate the data\n# also precompute the linkage\n# so we can pick up the \n# hierarchical thresholds beforehand\n\nfrom sklearn.preprocessing import scale\nfrom sklearn.preprocessing import StandardScaler\n\n# scale to mean 0, variance 1\ntrain_std = pd.DataFrame(scale(X_sel))\ntrain_std.columns = X_sel.columns\nm = train_std.corr()\nl = linkage(m, 'ward')",
      "execution_count": null,
      "outputs": []
    },
    {
      "metadata": {
        "_uuid": "07615ca22e51f8dbed8ce5b998792c5e4992fbe8",
        "_cell_guid": "4cf6380f-2f5d-4ede-93cd-dea1996a20b8",
        "trusted": false
      },
      "cell_type": "code",
      "source": "# Plot the clustermap\n# Save the returned object for further plotting\nmclust = sns.clustermap(m,\n               linewidths=0,\n               cmap=plt.get_cmap('RdBu'),\n               vmax=1,\n               vmin=-1,\n               figsize=(14, 14),\n               row_linkage=l,\n               col_linkage=l)",
      "execution_count": null,
      "outputs": []
    },
    {
      "metadata": {
        "_uuid": "1eabaf50a85e1efaee68ca55f5564dff96017184",
        "_cell_guid": "7590c8e0-8eb8-45f4-b2b5-fdddcc0d887c",
        "trusted": false
      },
      "cell_type": "code",
      "source": "# Threshold 1: median of the\n# distance thresholds computed by scipy\nt = np.median(hierarchy.maxdists(l))",
      "execution_count": null,
      "outputs": []
    },
    {
      "metadata": {
        "_uuid": "d0bcbc2746e1013f3a2262daa18a72acd39dcecd",
        "_cell_guid": "4ad52d71-2ff0-4b11-bb07-e15f522abaac",
        "trusted": false
      },
      "cell_type": "code",
      "source": "# Plot the clustermap\n# Save the returned object for further plotting\nmclust = sns.clustermap(m,\n               linewidths=0,\n               cmap=plt.get_cmap('RdBu'),\n               vmax=1,\n               vmin=-1,\n               figsize=(12, 12),\n               row_linkage=l,\n               col_linkage=l)\n\n# Draw the threshold lines\nmclust.ax_col_dendrogram.hlines(t,\n                               0,\n                               m.shape[0]*10,\n                               colors='r',\n                               linewidths=2,\n                               zorder=1)\nmclust.ax_row_dendrogram.vlines(t,\n                               0,\n                               m.shape[0]*10,\n                               colors='r',\n                               linewidths=2,\n                               zorder=1)\n\n# Extract the clusters\nclusters = hierarchy.fcluster(l, t, 'distance')\nfor c in set(clusters):\n    # Retrieve the position in the clustered matrix\n    index = [x for x in range(m.shape[0])\n             if mclust.data2d.columns[x] in m.index[clusters == c]]\n    # No singletons, please\n    if len(index) == 1:\n        continue\n\n    # Draw a rectangle around the cluster\n    mclust.ax_heatmap.add_patch(\n        patches.Rectangle(\n            (min(index),\n             m.shape[0] - max(index) - 1),\n                len(index),\n                len(index),\n                facecolor='none',\n                edgecolor='r',\n                lw=3)\n        )\n\nplt.title('Cluster matrix')\n\npass",
      "execution_count": null,
      "outputs": []
    },
    {
      "metadata": {
        "_uuid": "6aae4c236aef1ee8fd6cf4b32ff8289f9c6d582c",
        "_cell_guid": "0d80c90d-11cc-457f-be81-585cdbfa3726"
      },
      "cell_type": "markdown",
      "source": "For clustering with more features, have a look at: [https://www.kaggle.com/cast42/santander-customer-satisfaction/correlation-pairs](https://www.kaggle.com/cast42/santander-customer-satisfaction/correlation-pairs)"
    }
  ],
  "metadata": {
    "kernelspec": {
      "display_name": "Python 3",
      "language": "python",
      "name": "python3"
    },
    "language_info": {
      "name": "python",
      "version": "3.6.3",
      "mimetype": "text/x-python",
      "codemirror_mode": {
        "name": "ipython",
        "version": 3
      },
      "pygments_lexer": "ipython3",
      "nbconvert_exporter": "python",
      "file_extension": ".py"
    }
  },
  "nbformat": 4,
  "nbformat_minor": 1
}